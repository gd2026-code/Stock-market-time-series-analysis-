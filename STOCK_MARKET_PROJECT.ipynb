{
 "cells": [
  {
   "cell_type": "markdown",
   "id": "d78e4cc1-3b66-46b2-9354-eb566f54f1a3",
   "metadata": {},
   "source": [
    "# Analyze and forecast stock prices (e.g., AAPL, MSFT, GOOG, AMZN) using Python (Pandas, Matplotlib, etc.).\n",
    "\n"
   ]
  },
  {
   "cell_type": "code",
   "execution_count": 2,
   "id": "78faff4a-7079-4ee2-843e-fae5821101ab",
   "metadata": {},
   "outputs": [
    {
     "name": "stdout",
     "output_type": "stream",
     "text": [
      "Defaulting to user installation because normal site-packages is not writeable\n",
      "Requirement already satisfied: yfinance in c:\\users\\lenovo\\appdata\\roaming\\python\\python312\\site-packages (0.2.62)\n",
      "Requirement already satisfied: pandas>=1.3.0 in c:\\programdata\\anaconda3\\lib\\site-packages (from yfinance) (2.2.2)\n",
      "Requirement already satisfied: numpy>=1.16.5 in c:\\programdata\\anaconda3\\lib\\site-packages (from yfinance) (1.26.4)\n",
      "Requirement already satisfied: requests>=2.31 in c:\\programdata\\anaconda3\\lib\\site-packages (from yfinance) (2.32.3)\n",
      "Requirement already satisfied: multitasking>=0.0.7 in c:\\users\\lenovo\\appdata\\roaming\\python\\python312\\site-packages (from yfinance) (0.0.11)\n",
      "Requirement already satisfied: platformdirs>=2.0.0 in c:\\programdata\\anaconda3\\lib\\site-packages (from yfinance) (3.10.0)\n",
      "Requirement already satisfied: pytz>=2022.5 in c:\\programdata\\anaconda3\\lib\\site-packages (from yfinance) (2024.1)\n",
      "Requirement already satisfied: frozendict>=2.3.4 in c:\\programdata\\anaconda3\\lib\\site-packages (from yfinance) (2.4.2)\n",
      "Requirement already satisfied: peewee>=3.16.2 in c:\\users\\lenovo\\appdata\\roaming\\python\\python312\\site-packages (from yfinance) (3.18.1)\n",
      "Requirement already satisfied: beautifulsoup4>=4.11.1 in c:\\users\\lenovo\\appdata\\roaming\\python\\python312\\site-packages (from yfinance) (4.13.4)\n",
      "Requirement already satisfied: curl_cffi>=0.7 in c:\\users\\lenovo\\appdata\\roaming\\python\\python312\\site-packages (from yfinance) (0.11.3)\n",
      "Requirement already satisfied: protobuf>=3.19.0 in c:\\programdata\\anaconda3\\lib\\site-packages (from yfinance) (4.25.3)\n",
      "Requirement already satisfied: websockets>=13.0 in c:\\users\\lenovo\\appdata\\roaming\\python\\python312\\site-packages (from yfinance) (15.0.1)\n",
      "Requirement already satisfied: soupsieve>1.2 in c:\\programdata\\anaconda3\\lib\\site-packages (from beautifulsoup4>=4.11.1->yfinance) (2.5)\n",
      "Requirement already satisfied: typing-extensions>=4.0.0 in c:\\programdata\\anaconda3\\lib\\site-packages (from beautifulsoup4>=4.11.1->yfinance) (4.11.0)\n",
      "Requirement already satisfied: cffi>=1.12.0 in c:\\programdata\\anaconda3\\lib\\site-packages (from curl_cffi>=0.7->yfinance) (1.17.1)\n",
      "Requirement already satisfied: certifi>=2024.2.2 in c:\\programdata\\anaconda3\\lib\\site-packages (from curl_cffi>=0.7->yfinance) (2024.8.30)\n",
      "Requirement already satisfied: python-dateutil>=2.8.2 in c:\\programdata\\anaconda3\\lib\\site-packages (from pandas>=1.3.0->yfinance) (2.9.0.post0)\n",
      "Requirement already satisfied: tzdata>=2022.7 in c:\\programdata\\anaconda3\\lib\\site-packages (from pandas>=1.3.0->yfinance) (2023.3)\n",
      "Requirement already satisfied: charset-normalizer<4,>=2 in c:\\programdata\\anaconda3\\lib\\site-packages (from requests>=2.31->yfinance) (3.3.2)\n",
      "Requirement already satisfied: idna<4,>=2.5 in c:\\programdata\\anaconda3\\lib\\site-packages (from requests>=2.31->yfinance) (3.7)\n",
      "Requirement already satisfied: urllib3<3,>=1.21.1 in c:\\programdata\\anaconda3\\lib\\site-packages (from requests>=2.31->yfinance) (2.2.3)\n",
      "Requirement already satisfied: pycparser in c:\\programdata\\anaconda3\\lib\\site-packages (from cffi>=1.12.0->curl_cffi>=0.7->yfinance) (2.21)\n",
      "Requirement already satisfied: six>=1.5 in c:\\programdata\\anaconda3\\lib\\site-packages (from python-dateutil>=2.8.2->pandas>=1.3.0->yfinance) (1.16.0)\n"
     ]
    }
   ],
   "source": [
    "!pip install yfinance"
   ]
  },
  {
   "cell_type": "code",
   "execution_count": 84,
   "id": "cb0a2db3-936b-41ca-bee7-56d956c94452",
   "metadata": {},
   "outputs": [
    {
     "name": "stderr",
     "output_type": "stream",
     "text": [
      "C:\\Users\\lenovo\\AppData\\Local\\Temp\\ipykernel_5132\\246796636.py:11: FutureWarning:\n",
      "\n",
      "YF.download() has changed argument auto_adjust default to True\n",
      "\n",
      "[*********************100%***********************]  4 of 4 completed\n"
     ]
    }
   ],
   "source": [
    "import yfinance as yf\n",
    "import pandas as pd\n",
    "from datetime import datetime, timedelta\n",
    "\n",
    "# Set symbols and date range\n",
    "symbols = ['AAPL', 'GOOG', 'MSFT', 'AMZN']\n",
    "end_date = datetime.now()\n",
    "start_date = end_date - timedelta(days=30)\n",
    "\n",
    "# Download all company data at once\n",
    "df = yf.download(symbols, start=start_date, end=end_date, group_by='ticker')\n"
   ]
  },
  {
   "cell_type": "code",
   "execution_count": 85,
   "id": "8e4bd683-0559-4149-a1e9-f07805d6d7d6",
   "metadata": {},
   "outputs": [
    {
     "name": "stdout",
     "output_type": "stream",
     "text": [
      "Column names are: Index(['Date', 'Price', 'GOOG', 'MSFT', 'AMZN', 'AAPL'], dtype='object', name='Ticker')\n",
      "Total number of columns: 6\n"
     ]
    }
   ],
   "source": [
    "# Stack and reset index\n",
    "df = df.stack(level=1, future_stack=True).reset_index()\n",
    "\n",
    "# Check how many columns are present\n",
    "print(\"Column names are:\", df.columns)\n",
    "print(\"Total number of columns:\", len(df.columns))\n"
   ]
  },
  {
   "cell_type": "code",
   "execution_count": 86,
   "id": "2075a3b4-93d5-4c0d-9ec4-0eeb46fed631",
   "metadata": {},
   "outputs": [
    {
     "name": "stdout",
     "output_type": "stream",
     "text": [
      "        Date Company       Close        High         Low        Open  \\\n",
      "0 2025-05-28    AAPL  200.419998  202.729996  199.899994  200.589996   \n",
      "1 2025-05-28    AMZN  204.720001  207.660004  204.410004  205.919998   \n",
      "2 2025-05-28    GOOG  173.171860  176.268129  172.807292  173.771130   \n",
      "3 2025-05-28    MSFT  457.359985  462.519989  456.929993  461.220001   \n",
      "4 2025-05-29    AAPL  199.949997  203.809998  198.509995  203.580002   \n",
      "5 2025-05-29    AMZN  205.699997  208.809998  204.229996  208.029999   \n",
      "6 2025-05-29    GOOG  172.752365  175.189423  171.573774  174.789909   \n",
      "7 2025-05-29    MSFT  458.679993  461.720001  455.309998  461.549988   \n",
      "8 2025-05-30    AAPL  200.850006  201.960007  196.779999  199.369995   \n",
      "9 2025-05-30    AMZN  205.009995  205.990005  201.699997  204.839996   \n",
      "\n",
      "       Volume  \n",
      "0  45339700.0  \n",
      "1  28549800.0  \n",
      "2  25999200.0  \n",
      "3  17086300.0  \n",
      "4  51396800.0  \n",
      "5  34650000.0  \n",
      "6  21233600.0  \n",
      "7  13974800.0  \n",
      "8  70819900.0  \n",
      "9  51679400.0  \n"
     ]
    }
   ],
   "source": [
    "# Assume df is your current DataFrame\n",
    "df_long = df.melt(id_vars=['Date', 'Price'], \n",
    "                  var_name='Company', \n",
    "                  value_name='Value')\n",
    "\n",
    "# Optional: Pivot so you get separate columns for Open, Close, etc.\n",
    "df_final = df_long.pivot(index=['Date', 'Company'], columns='Price', values='Value').reset_index()\n",
    "\n",
    "# Clean column names\n",
    "df_final.columns.name = None\n",
    "\n",
    "# Display the final structured data\n",
    "print(df_final.head(10))\n"
   ]
  },
  {
   "cell_type": "code",
   "execution_count": 87,
   "id": "64a87946-96aa-4abe-8e14-3874a0fff14e",
   "metadata": {},
   "outputs": [],
   "source": [
    "df_final.sort_values(by=['Date', 'Company'], inplace=True)\n"
   ]
  },
  {
   "cell_type": "code",
   "execution_count": 88,
   "id": "edd01bbb-e44b-42d3-98f0-c5667af89240",
   "metadata": {},
   "outputs": [
    {
     "data": {
      "text/html": [
       "<div>\n",
       "<style scoped>\n",
       "    .dataframe tbody tr th:only-of-type {\n",
       "        vertical-align: middle;\n",
       "    }\n",
       "\n",
       "    .dataframe tbody tr th {\n",
       "        vertical-align: top;\n",
       "    }\n",
       "\n",
       "    .dataframe thead th {\n",
       "        text-align: right;\n",
       "    }\n",
       "</style>\n",
       "<table border=\"1\" class=\"dataframe\">\n",
       "  <thead>\n",
       "    <tr style=\"text-align: right;\">\n",
       "      <th>Ticker</th>\n",
       "      <th>Date</th>\n",
       "      <th>Price</th>\n",
       "      <th>GOOG</th>\n",
       "      <th>MSFT</th>\n",
       "      <th>AMZN</th>\n",
       "      <th>AAPL</th>\n",
       "    </tr>\n",
       "  </thead>\n",
       "  <tbody>\n",
       "    <tr>\n",
       "      <th>0</th>\n",
       "      <td>2025-05-28</td>\n",
       "      <td>Open</td>\n",
       "      <td>1.737711e+02</td>\n",
       "      <td>4.612200e+02</td>\n",
       "      <td>2.059200e+02</td>\n",
       "      <td>2.005900e+02</td>\n",
       "    </tr>\n",
       "    <tr>\n",
       "      <th>1</th>\n",
       "      <td>2025-05-28</td>\n",
       "      <td>High</td>\n",
       "      <td>1.762681e+02</td>\n",
       "      <td>4.625200e+02</td>\n",
       "      <td>2.076600e+02</td>\n",
       "      <td>2.027300e+02</td>\n",
       "    </tr>\n",
       "    <tr>\n",
       "      <th>2</th>\n",
       "      <td>2025-05-28</td>\n",
       "      <td>Low</td>\n",
       "      <td>1.728073e+02</td>\n",
       "      <td>4.569300e+02</td>\n",
       "      <td>2.044100e+02</td>\n",
       "      <td>1.999000e+02</td>\n",
       "    </tr>\n",
       "    <tr>\n",
       "      <th>3</th>\n",
       "      <td>2025-05-28</td>\n",
       "      <td>Close</td>\n",
       "      <td>1.731719e+02</td>\n",
       "      <td>4.573600e+02</td>\n",
       "      <td>2.047200e+02</td>\n",
       "      <td>2.004200e+02</td>\n",
       "    </tr>\n",
       "    <tr>\n",
       "      <th>4</th>\n",
       "      <td>2025-05-28</td>\n",
       "      <td>Volume</td>\n",
       "      <td>2.599920e+07</td>\n",
       "      <td>1.708630e+07</td>\n",
       "      <td>2.854980e+07</td>\n",
       "      <td>4.533970e+07</td>\n",
       "    </tr>\n",
       "    <tr>\n",
       "      <th>...</th>\n",
       "      <td>...</td>\n",
       "      <td>...</td>\n",
       "      <td>...</td>\n",
       "      <td>...</td>\n",
       "      <td>...</td>\n",
       "      <td>...</td>\n",
       "    </tr>\n",
       "    <tr>\n",
       "      <th>100</th>\n",
       "      <td>2025-06-26</td>\n",
       "      <td>Open</td>\n",
       "      <td>1.733850e+02</td>\n",
       "      <td>4.929800e+02</td>\n",
       "      <td>2.131200e+02</td>\n",
       "      <td>2.014300e+02</td>\n",
       "    </tr>\n",
       "    <tr>\n",
       "      <th>101</th>\n",
       "      <td>2025-06-26</td>\n",
       "      <td>High</td>\n",
       "      <td>1.744400e+02</td>\n",
       "      <td>4.969600e+02</td>\n",
       "      <td>2.168650e+02</td>\n",
       "      <td>2.026150e+02</td>\n",
       "    </tr>\n",
       "    <tr>\n",
       "      <th>102</th>\n",
       "      <td>2025-06-26</td>\n",
       "      <td>Low</td>\n",
       "      <td>1.708601e+02</td>\n",
       "      <td>4.929300e+02</td>\n",
       "      <td>2.120100e+02</td>\n",
       "      <td>1.994600e+02</td>\n",
       "    </tr>\n",
       "    <tr>\n",
       "      <th>103</th>\n",
       "      <td>2025-06-26</td>\n",
       "      <td>Close</td>\n",
       "      <td>1.742050e+02</td>\n",
       "      <td>4.965950e+02</td>\n",
       "      <td>2.166800e+02</td>\n",
       "      <td>2.007000e+02</td>\n",
       "    </tr>\n",
       "    <tr>\n",
       "      <th>104</th>\n",
       "      <td>2025-06-26</td>\n",
       "      <td>Volume</td>\n",
       "      <td>1.554117e+07</td>\n",
       "      <td>8.726373e+06</td>\n",
       "      <td>2.465627e+07</td>\n",
       "      <td>2.947298e+07</td>\n",
       "    </tr>\n",
       "  </tbody>\n",
       "</table>\n",
       "<p>105 rows × 6 columns</p>\n",
       "</div>"
      ],
      "text/plain": [
       "Ticker       Date   Price          GOOG          MSFT          AMZN  \\\n",
       "0      2025-05-28    Open  1.737711e+02  4.612200e+02  2.059200e+02   \n",
       "1      2025-05-28    High  1.762681e+02  4.625200e+02  2.076600e+02   \n",
       "2      2025-05-28     Low  1.728073e+02  4.569300e+02  2.044100e+02   \n",
       "3      2025-05-28   Close  1.731719e+02  4.573600e+02  2.047200e+02   \n",
       "4      2025-05-28  Volume  2.599920e+07  1.708630e+07  2.854980e+07   \n",
       "..            ...     ...           ...           ...           ...   \n",
       "100    2025-06-26    Open  1.733850e+02  4.929800e+02  2.131200e+02   \n",
       "101    2025-06-26    High  1.744400e+02  4.969600e+02  2.168650e+02   \n",
       "102    2025-06-26     Low  1.708601e+02  4.929300e+02  2.120100e+02   \n",
       "103    2025-06-26   Close  1.742050e+02  4.965950e+02  2.166800e+02   \n",
       "104    2025-06-26  Volume  1.554117e+07  8.726373e+06  2.465627e+07   \n",
       "\n",
       "Ticker          AAPL  \n",
       "0       2.005900e+02  \n",
       "1       2.027300e+02  \n",
       "2       1.999000e+02  \n",
       "3       2.004200e+02  \n",
       "4       4.533970e+07  \n",
       "..               ...  \n",
       "100     2.014300e+02  \n",
       "101     2.026150e+02  \n",
       "102     1.994600e+02  \n",
       "103     2.007000e+02  \n",
       "104     2.947298e+07  \n",
       "\n",
       "[105 rows x 6 columns]"
      ]
     },
     "execution_count": 88,
     "metadata": {},
     "output_type": "execute_result"
    }
   ],
   "source": [
    "df"
   ]
  },
  {
   "cell_type": "code",
   "execution_count": null,
   "id": "81fc4ce3-c8c1-4670-837d-1614bd16cf0a",
   "metadata": {},
   "outputs": [],
   "source": []
  },
  {
   "cell_type": "code",
   "execution_count": 89,
   "id": "a840a056-5ce2-4822-bc8e-e832cc9b7aaf",
   "metadata": {},
   "outputs": [
    {
     "name": "stdout",
     "output_type": "stream",
     "text": [
      "['Solarize_Light2', '_classic_test_patch', '_mpl-gallery', '_mpl-gallery-nogrid', 'bmh', 'classic', 'dark_background', 'fast', 'fivethirtyeight', 'ggplot', 'grayscale', 'seaborn-v0_8', 'seaborn-v0_8-bright', 'seaborn-v0_8-colorblind', 'seaborn-v0_8-dark', 'seaborn-v0_8-dark-palette', 'seaborn-v0_8-darkgrid', 'seaborn-v0_8-deep', 'seaborn-v0_8-muted', 'seaborn-v0_8-notebook', 'seaborn-v0_8-paper', 'seaborn-v0_8-pastel', 'seaborn-v0_8-poster', 'seaborn-v0_8-talk', 'seaborn-v0_8-ticks', 'seaborn-v0_8-white', 'seaborn-v0_8-whitegrid', 'tableau-colorblind10']\n"
     ]
    }
   ],
   "source": [
    "import matplotlib.pyplot as plt\n",
    "print(plt.style.available)\n"
   ]
  },
  {
   "cell_type": "code",
   "execution_count": 90,
   "id": "2a5544b3-61b4-4808-93c1-50695b725c93",
   "metadata": {},
   "outputs": [
    {
     "data": {
      "application/vnd.plotly.v1+json": {
       "config": {
        "plotlyServerURL": "https://plot.ly"
       },
       "data": [
        {
         "hovertemplate": "Company=AAPL<br>Date=%{x}<br>Close=%{y}<extra></extra>",
         "legendgroup": "AAPL",
         "line": {
          "color": "#636efa",
          "dash": "solid"
         },
         "marker": {
          "symbol": "circle"
         },
         "mode": "lines+markers",
         "name": "AAPL",
         "orientation": "v",
         "showlegend": true,
         "type": "scatter",
         "x": [
          "2025-05-28T00:00:00",
          "2025-05-29T00:00:00",
          "2025-05-30T00:00:00",
          "2025-06-02T00:00:00",
          "2025-06-03T00:00:00",
          "2025-06-04T00:00:00",
          "2025-06-05T00:00:00",
          "2025-06-06T00:00:00",
          "2025-06-09T00:00:00",
          "2025-06-10T00:00:00",
          "2025-06-11T00:00:00",
          "2025-06-12T00:00:00",
          "2025-06-13T00:00:00",
          "2025-06-16T00:00:00",
          "2025-06-17T00:00:00",
          "2025-06-18T00:00:00",
          "2025-06-20T00:00:00",
          "2025-06-23T00:00:00",
          "2025-06-24T00:00:00",
          "2025-06-25T00:00:00",
          "2025-06-26T00:00:00"
         ],
         "xaxis": "x",
         "y": [
          200.4199981689453,
          199.9499969482422,
          200.85000610351562,
          201.6999969482422,
          203.27000427246094,
          202.82000732421875,
          200.6300048828125,
          203.9199981689453,
          201.4499969482422,
          202.6699981689453,
          198.77999877929688,
          199.1999969482422,
          196.4499969482422,
          198.4199981689453,
          195.63999938964844,
          196.5800018310547,
          201,
          201.5,
          200.3000030517578,
          201.55999755859375,
          200.6999969482422
         ],
         "yaxis": "y"
        },
        {
         "hovertemplate": "Company=AMZN<br>Date=%{x}<br>Close=%{y}<extra></extra>",
         "legendgroup": "AMZN",
         "line": {
          "color": "#EF553B",
          "dash": "solid"
         },
         "marker": {
          "symbol": "circle"
         },
         "mode": "lines+markers",
         "name": "AMZN",
         "orientation": "v",
         "showlegend": true,
         "type": "scatter",
         "x": [
          "2025-05-28T00:00:00",
          "2025-05-29T00:00:00",
          "2025-05-30T00:00:00",
          "2025-06-02T00:00:00",
          "2025-06-03T00:00:00",
          "2025-06-04T00:00:00",
          "2025-06-05T00:00:00",
          "2025-06-06T00:00:00",
          "2025-06-09T00:00:00",
          "2025-06-10T00:00:00",
          "2025-06-11T00:00:00",
          "2025-06-12T00:00:00",
          "2025-06-13T00:00:00",
          "2025-06-16T00:00:00",
          "2025-06-17T00:00:00",
          "2025-06-18T00:00:00",
          "2025-06-20T00:00:00",
          "2025-06-23T00:00:00",
          "2025-06-24T00:00:00",
          "2025-06-25T00:00:00",
          "2025-06-26T00:00:00"
         ],
         "xaxis": "x",
         "y": [
          204.72000122070312,
          205.6999969482422,
          205.00999450683594,
          206.64999389648438,
          205.7100067138672,
          207.22999572753906,
          207.91000366210938,
          213.57000732421875,
          216.97999572753906,
          217.61000061035156,
          213.1999969482422,
          213.24000549316406,
          212.10000610351562,
          216.10000610351562,
          214.82000732421875,
          212.52000427246094,
          209.69000244140625,
          208.47000122070312,
          212.77000427246094,
          211.99000549316406,
          216.67999267578125
         ],
         "yaxis": "y"
        },
        {
         "hovertemplate": "Company=GOOG<br>Date=%{x}<br>Close=%{y}<extra></extra>",
         "legendgroup": "GOOG",
         "line": {
          "color": "#00cc96",
          "dash": "solid"
         },
         "marker": {
          "symbol": "circle"
         },
         "mode": "lines+markers",
         "name": "GOOG",
         "orientation": "v",
         "showlegend": true,
         "type": "scatter",
         "x": [
          "2025-05-28T00:00:00",
          "2025-05-29T00:00:00",
          "2025-05-30T00:00:00",
          "2025-06-02T00:00:00",
          "2025-06-03T00:00:00",
          "2025-06-04T00:00:00",
          "2025-06-05T00:00:00",
          "2025-06-06T00:00:00",
          "2025-06-09T00:00:00",
          "2025-06-10T00:00:00",
          "2025-06-11T00:00:00",
          "2025-06-12T00:00:00",
          "2025-06-13T00:00:00",
          "2025-06-16T00:00:00",
          "2025-06-17T00:00:00",
          "2025-06-18T00:00:00",
          "2025-06-20T00:00:00",
          "2025-06-23T00:00:00",
          "2025-06-24T00:00:00",
          "2025-06-25T00:00:00",
          "2025-06-26T00:00:00"
         ],
         "xaxis": "x",
         "y": [
          173.17185974121094,
          172.7523651123047,
          172.64248657226562,
          170.1654510498047,
          167.5086669921875,
          169.18663024902344,
          169.6061248779297,
          174.70999145507812,
          177.6300048828125,
          180.00999450683594,
          178.7899932861328,
          176.97000122070312,
          175.8800048828125,
          177.94000244140625,
          177.22999572753906,
          173.97999572753906,
          167.72999572753906,
          166.00999450683594,
          167.74000549316406,
          171.49000549316406,
          174.2050018310547
         ],
         "yaxis": "y"
        },
        {
         "hovertemplate": "Company=MSFT<br>Date=%{x}<br>Close=%{y}<extra></extra>",
         "legendgroup": "MSFT",
         "line": {
          "color": "#ab63fa",
          "dash": "solid"
         },
         "marker": {
          "symbol": "circle"
         },
         "mode": "lines+markers",
         "name": "MSFT",
         "orientation": "v",
         "showlegend": true,
         "type": "scatter",
         "x": [
          "2025-05-28T00:00:00",
          "2025-05-29T00:00:00",
          "2025-05-30T00:00:00",
          "2025-06-02T00:00:00",
          "2025-06-03T00:00:00",
          "2025-06-04T00:00:00",
          "2025-06-05T00:00:00",
          "2025-06-06T00:00:00",
          "2025-06-09T00:00:00",
          "2025-06-10T00:00:00",
          "2025-06-11T00:00:00",
          "2025-06-12T00:00:00",
          "2025-06-13T00:00:00",
          "2025-06-16T00:00:00",
          "2025-06-17T00:00:00",
          "2025-06-18T00:00:00",
          "2025-06-20T00:00:00",
          "2025-06-23T00:00:00",
          "2025-06-24T00:00:00",
          "2025-06-25T00:00:00",
          "2025-06-26T00:00:00"
         ],
         "xaxis": "x",
         "y": [
          457.3599853515625,
          458.67999267578125,
          460.3599853515625,
          461.9700012207031,
          462.9700012207031,
          463.8699951171875,
          467.67999267578125,
          470.3800048828125,
          472.75,
          470.9200134277344,
          472.6199951171875,
          478.8699951171875,
          474.9599914550781,
          479.1400146484375,
          478.0400085449219,
          480.239990234375,
          477.3999938964844,
          486,
          490.1099853515625,
          492.2699890136719,
          496.5950012207031
         ],
         "yaxis": "y"
        }
       ],
       "layout": {
        "autosize": true,
        "legend": {
         "title": {
          "text": "Company"
         },
         "tracegroupgap": 0
        },
        "template": {
         "data": {
          "bar": [
           {
            "error_x": {
             "color": "#f2f5fa"
            },
            "error_y": {
             "color": "#f2f5fa"
            },
            "marker": {
             "line": {
              "color": "rgb(17,17,17)",
              "width": 0.5
             },
             "pattern": {
              "fillmode": "overlay",
              "size": 10,
              "solidity": 0.2
             }
            },
            "type": "bar"
           }
          ],
          "barpolar": [
           {
            "marker": {
             "line": {
              "color": "rgb(17,17,17)",
              "width": 0.5
             },
             "pattern": {
              "fillmode": "overlay",
              "size": 10,
              "solidity": 0.2
             }
            },
            "type": "barpolar"
           }
          ],
          "carpet": [
           {
            "aaxis": {
             "endlinecolor": "#A2B1C6",
             "gridcolor": "#506784",
             "linecolor": "#506784",
             "minorgridcolor": "#506784",
             "startlinecolor": "#A2B1C6"
            },
            "baxis": {
             "endlinecolor": "#A2B1C6",
             "gridcolor": "#506784",
             "linecolor": "#506784",
             "minorgridcolor": "#506784",
             "startlinecolor": "#A2B1C6"
            },
            "type": "carpet"
           }
          ],
          "choropleth": [
           {
            "colorbar": {
             "outlinewidth": 0,
             "ticks": ""
            },
            "type": "choropleth"
           }
          ],
          "contour": [
           {
            "colorbar": {
             "outlinewidth": 0,
             "ticks": ""
            },
            "colorscale": [
             [
              0,
              "#0d0887"
             ],
             [
              0.1111111111111111,
              "#46039f"
             ],
             [
              0.2222222222222222,
              "#7201a8"
             ],
             [
              0.3333333333333333,
              "#9c179e"
             ],
             [
              0.4444444444444444,
              "#bd3786"
             ],
             [
              0.5555555555555556,
              "#d8576b"
             ],
             [
              0.6666666666666666,
              "#ed7953"
             ],
             [
              0.7777777777777778,
              "#fb9f3a"
             ],
             [
              0.8888888888888888,
              "#fdca26"
             ],
             [
              1,
              "#f0f921"
             ]
            ],
            "type": "contour"
           }
          ],
          "contourcarpet": [
           {
            "colorbar": {
             "outlinewidth": 0,
             "ticks": ""
            },
            "type": "contourcarpet"
           }
          ],
          "heatmap": [
           {
            "colorbar": {
             "outlinewidth": 0,
             "ticks": ""
            },
            "colorscale": [
             [
              0,
              "#0d0887"
             ],
             [
              0.1111111111111111,
              "#46039f"
             ],
             [
              0.2222222222222222,
              "#7201a8"
             ],
             [
              0.3333333333333333,
              "#9c179e"
             ],
             [
              0.4444444444444444,
              "#bd3786"
             ],
             [
              0.5555555555555556,
              "#d8576b"
             ],
             [
              0.6666666666666666,
              "#ed7953"
             ],
             [
              0.7777777777777778,
              "#fb9f3a"
             ],
             [
              0.8888888888888888,
              "#fdca26"
             ],
             [
              1,
              "#f0f921"
             ]
            ],
            "type": "heatmap"
           }
          ],
          "heatmapgl": [
           {
            "colorbar": {
             "outlinewidth": 0,
             "ticks": ""
            },
            "colorscale": [
             [
              0,
              "#0d0887"
             ],
             [
              0.1111111111111111,
              "#46039f"
             ],
             [
              0.2222222222222222,
              "#7201a8"
             ],
             [
              0.3333333333333333,
              "#9c179e"
             ],
             [
              0.4444444444444444,
              "#bd3786"
             ],
             [
              0.5555555555555556,
              "#d8576b"
             ],
             [
              0.6666666666666666,
              "#ed7953"
             ],
             [
              0.7777777777777778,
              "#fb9f3a"
             ],
             [
              0.8888888888888888,
              "#fdca26"
             ],
             [
              1,
              "#f0f921"
             ]
            ],
            "type": "heatmapgl"
           }
          ],
          "histogram": [
           {
            "marker": {
             "pattern": {
              "fillmode": "overlay",
              "size": 10,
              "solidity": 0.2
             }
            },
            "type": "histogram"
           }
          ],
          "histogram2d": [
           {
            "colorbar": {
             "outlinewidth": 0,
             "ticks": ""
            },
            "colorscale": [
             [
              0,
              "#0d0887"
             ],
             [
              0.1111111111111111,
              "#46039f"
             ],
             [
              0.2222222222222222,
              "#7201a8"
             ],
             [
              0.3333333333333333,
              "#9c179e"
             ],
             [
              0.4444444444444444,
              "#bd3786"
             ],
             [
              0.5555555555555556,
              "#d8576b"
             ],
             [
              0.6666666666666666,
              "#ed7953"
             ],
             [
              0.7777777777777778,
              "#fb9f3a"
             ],
             [
              0.8888888888888888,
              "#fdca26"
             ],
             [
              1,
              "#f0f921"
             ]
            ],
            "type": "histogram2d"
           }
          ],
          "histogram2dcontour": [
           {
            "colorbar": {
             "outlinewidth": 0,
             "ticks": ""
            },
            "colorscale": [
             [
              0,
              "#0d0887"
             ],
             [
              0.1111111111111111,
              "#46039f"
             ],
             [
              0.2222222222222222,
              "#7201a8"
             ],
             [
              0.3333333333333333,
              "#9c179e"
             ],
             [
              0.4444444444444444,
              "#bd3786"
             ],
             [
              0.5555555555555556,
              "#d8576b"
             ],
             [
              0.6666666666666666,
              "#ed7953"
             ],
             [
              0.7777777777777778,
              "#fb9f3a"
             ],
             [
              0.8888888888888888,
              "#fdca26"
             ],
             [
              1,
              "#f0f921"
             ]
            ],
            "type": "histogram2dcontour"
           }
          ],
          "mesh3d": [
           {
            "colorbar": {
             "outlinewidth": 0,
             "ticks": ""
            },
            "type": "mesh3d"
           }
          ],
          "parcoords": [
           {
            "line": {
             "colorbar": {
              "outlinewidth": 0,
              "ticks": ""
             }
            },
            "type": "parcoords"
           }
          ],
          "pie": [
           {
            "automargin": true,
            "type": "pie"
           }
          ],
          "scatter": [
           {
            "marker": {
             "line": {
              "color": "#283442"
             }
            },
            "type": "scatter"
           }
          ],
          "scatter3d": [
           {
            "line": {
             "colorbar": {
              "outlinewidth": 0,
              "ticks": ""
             }
            },
            "marker": {
             "colorbar": {
              "outlinewidth": 0,
              "ticks": ""
             }
            },
            "type": "scatter3d"
           }
          ],
          "scattercarpet": [
           {
            "marker": {
             "colorbar": {
              "outlinewidth": 0,
              "ticks": ""
             }
            },
            "type": "scattercarpet"
           }
          ],
          "scattergeo": [
           {
            "marker": {
             "colorbar": {
              "outlinewidth": 0,
              "ticks": ""
             }
            },
            "type": "scattergeo"
           }
          ],
          "scattergl": [
           {
            "marker": {
             "line": {
              "color": "#283442"
             }
            },
            "type": "scattergl"
           }
          ],
          "scattermapbox": [
           {
            "marker": {
             "colorbar": {
              "outlinewidth": 0,
              "ticks": ""
             }
            },
            "type": "scattermapbox"
           }
          ],
          "scatterpolar": [
           {
            "marker": {
             "colorbar": {
              "outlinewidth": 0,
              "ticks": ""
             }
            },
            "type": "scatterpolar"
           }
          ],
          "scatterpolargl": [
           {
            "marker": {
             "colorbar": {
              "outlinewidth": 0,
              "ticks": ""
             }
            },
            "type": "scatterpolargl"
           }
          ],
          "scatterternary": [
           {
            "marker": {
             "colorbar": {
              "outlinewidth": 0,
              "ticks": ""
             }
            },
            "type": "scatterternary"
           }
          ],
          "surface": [
           {
            "colorbar": {
             "outlinewidth": 0,
             "ticks": ""
            },
            "colorscale": [
             [
              0,
              "#0d0887"
             ],
             [
              0.1111111111111111,
              "#46039f"
             ],
             [
              0.2222222222222222,
              "#7201a8"
             ],
             [
              0.3333333333333333,
              "#9c179e"
             ],
             [
              0.4444444444444444,
              "#bd3786"
             ],
             [
              0.5555555555555556,
              "#d8576b"
             ],
             [
              0.6666666666666666,
              "#ed7953"
             ],
             [
              0.7777777777777778,
              "#fb9f3a"
             ],
             [
              0.8888888888888888,
              "#fdca26"
             ],
             [
              1,
              "#f0f921"
             ]
            ],
            "type": "surface"
           }
          ],
          "table": [
           {
            "cells": {
             "fill": {
              "color": "#506784"
             },
             "line": {
              "color": "rgb(17,17,17)"
             }
            },
            "header": {
             "fill": {
              "color": "#2a3f5f"
             },
             "line": {
              "color": "rgb(17,17,17)"
             }
            },
            "type": "table"
           }
          ]
         },
         "layout": {
          "annotationdefaults": {
           "arrowcolor": "#f2f5fa",
           "arrowhead": 0,
           "arrowwidth": 1
          },
          "autotypenumbers": "strict",
          "coloraxis": {
           "colorbar": {
            "outlinewidth": 0,
            "ticks": ""
           }
          },
          "colorscale": {
           "diverging": [
            [
             0,
             "#8e0152"
            ],
            [
             0.1,
             "#c51b7d"
            ],
            [
             0.2,
             "#de77ae"
            ],
            [
             0.3,
             "#f1b6da"
            ],
            [
             0.4,
             "#fde0ef"
            ],
            [
             0.5,
             "#f7f7f7"
            ],
            [
             0.6,
             "#e6f5d0"
            ],
            [
             0.7,
             "#b8e186"
            ],
            [
             0.8,
             "#7fbc41"
            ],
            [
             0.9,
             "#4d9221"
            ],
            [
             1,
             "#276419"
            ]
           ],
           "sequential": [
            [
             0,
             "#0d0887"
            ],
            [
             0.1111111111111111,
             "#46039f"
            ],
            [
             0.2222222222222222,
             "#7201a8"
            ],
            [
             0.3333333333333333,
             "#9c179e"
            ],
            [
             0.4444444444444444,
             "#bd3786"
            ],
            [
             0.5555555555555556,
             "#d8576b"
            ],
            [
             0.6666666666666666,
             "#ed7953"
            ],
            [
             0.7777777777777778,
             "#fb9f3a"
            ],
            [
             0.8888888888888888,
             "#fdca26"
            ],
            [
             1,
             "#f0f921"
            ]
           ],
           "sequentialminus": [
            [
             0,
             "#0d0887"
            ],
            [
             0.1111111111111111,
             "#46039f"
            ],
            [
             0.2222222222222222,
             "#7201a8"
            ],
            [
             0.3333333333333333,
             "#9c179e"
            ],
            [
             0.4444444444444444,
             "#bd3786"
            ],
            [
             0.5555555555555556,
             "#d8576b"
            ],
            [
             0.6666666666666666,
             "#ed7953"
            ],
            [
             0.7777777777777778,
             "#fb9f3a"
            ],
            [
             0.8888888888888888,
             "#fdca26"
            ],
            [
             1,
             "#f0f921"
            ]
           ]
          },
          "colorway": [
           "#636efa",
           "#EF553B",
           "#00cc96",
           "#ab63fa",
           "#FFA15A",
           "#19d3f3",
           "#FF6692",
           "#B6E880",
           "#FF97FF",
           "#FECB52"
          ],
          "font": {
           "color": "#f2f5fa"
          },
          "geo": {
           "bgcolor": "rgb(17,17,17)",
           "lakecolor": "rgb(17,17,17)",
           "landcolor": "rgb(17,17,17)",
           "showlakes": true,
           "showland": true,
           "subunitcolor": "#506784"
          },
          "hoverlabel": {
           "align": "left"
          },
          "hovermode": "closest",
          "mapbox": {
           "style": "dark"
          },
          "paper_bgcolor": "rgb(17,17,17)",
          "plot_bgcolor": "rgb(17,17,17)",
          "polar": {
           "angularaxis": {
            "gridcolor": "#506784",
            "linecolor": "#506784",
            "ticks": ""
           },
           "bgcolor": "rgb(17,17,17)",
           "radialaxis": {
            "gridcolor": "#506784",
            "linecolor": "#506784",
            "ticks": ""
           }
          },
          "scene": {
           "xaxis": {
            "backgroundcolor": "rgb(17,17,17)",
            "gridcolor": "#506784",
            "gridwidth": 2,
            "linecolor": "#506784",
            "showbackground": true,
            "ticks": "",
            "zerolinecolor": "#C8D4E3"
           },
           "yaxis": {
            "backgroundcolor": "rgb(17,17,17)",
            "gridcolor": "#506784",
            "gridwidth": 2,
            "linecolor": "#506784",
            "showbackground": true,
            "ticks": "",
            "zerolinecolor": "#C8D4E3"
           },
           "zaxis": {
            "backgroundcolor": "rgb(17,17,17)",
            "gridcolor": "#506784",
            "gridwidth": 2,
            "linecolor": "#506784",
            "showbackground": true,
            "ticks": "",
            "zerolinecolor": "#C8D4E3"
           }
          },
          "shapedefaults": {
           "line": {
            "color": "#f2f5fa"
           }
          },
          "sliderdefaults": {
           "bgcolor": "#C8D4E3",
           "bordercolor": "rgb(17,17,17)",
           "borderwidth": 1,
           "tickwidth": 0
          },
          "ternary": {
           "aaxis": {
            "gridcolor": "#506784",
            "linecolor": "#506784",
            "ticks": ""
           },
           "baxis": {
            "gridcolor": "#506784",
            "linecolor": "#506784",
            "ticks": ""
           },
           "bgcolor": "rgb(17,17,17)",
           "caxis": {
            "gridcolor": "#506784",
            "linecolor": "#506784",
            "ticks": ""
           }
          },
          "title": {
           "x": 0.05
          },
          "updatemenudefaults": {
           "bgcolor": "#506784",
           "borderwidth": 0
          },
          "xaxis": {
           "automargin": true,
           "gridcolor": "#283442",
           "linecolor": "#506784",
           "ticks": "",
           "title": {
            "standoff": 15
           },
           "zerolinecolor": "#283442",
           "zerolinewidth": 2
          },
          "yaxis": {
           "automargin": true,
           "gridcolor": "#283442",
           "linecolor": "#506784",
           "ticks": "",
           "title": {
            "standoff": 15
           },
           "zerolinecolor": "#283442",
           "zerolinewidth": 2
          }
         }
        },
        "title": {
         "text": "Stock Closing Prices - Last 30 Days"
        },
        "xaxis": {
         "anchor": "y",
         "autorange": true,
         "domain": [
          0,
          1
         ],
         "range": [
          "2025-05-26 04:49:05.9131",
          "2025-06-27 19:10:54.0869"
         ],
         "title": {
          "text": "Date"
         },
         "type": "date"
        },
        "yaxis": {
         "anchor": "x",
         "autorange": true,
         "domain": [
          0,
          1
         ],
         "range": [
          138.72870754501196,
          523.8762881825271
         ],
         "title": {
          "text": "Closing Price"
         },
         "type": "linear"
        }
       }
      },
      "image/png": "[encoded data removed]",
      "text/html": [
       "<div>                            <div id=\"61b5404d-ebef-4724-9b1d-6bbecc004b80\" class=\"plotly-graph-div\" style=\"height:525px; width:100%;\"></div>            <script type=\"text/javascript\">                require([\"plotly\"], function(Plotly) {                    window.PLOTLYENV=window.PLOTLYENV || {};                                    if (document.getElementById(\"61b5404d-ebef-4724-9b1d-6bbecc004b80\")) {                    Plotly.newPlot(                        \"61b5404d-ebef-4724-9b1d-6bbecc004b80\",                        [{\"hovertemplate\":\"Company=AAPL\\u003cbr\\u003eDate=%{x}\\u003cbr\\u003eClose=%{y}\\u003cextra\\u003e\\u003c\\u002fextra\\u003e\",\"legendgroup\":\"AAPL\",\"line\":{\"color\":\"#636efa\",\"dash\":\"solid\"},\"marker\":{\"symbol\":\"circle\"},\"mode\":\"lines+markers\",\"name\":\"AAPL\",\"orientation\":\"v\",\"showlegend\":true,\"x\":[\"2025-05-28T00:00:00\",\"2025-05-29T00:00:00\",\"2025-05-30T00:00:00\",\"2025-06-02T00:00:00\",\"2025-06-03T00:00:00\",\"2025-06-04T00:00:00\",\"2025-06-05T00:00:00\",\"2025-06-06T00:00:00\",\"2025-06-09T00:00:00\",\"2025-06-10T00:00:00\",\"2025-06-11T00:00:00\",\"2025-06-12T00:00:00\",\"2025-06-13T00:00:00\",\"2025-06-16T00:00:00\",\"2025-06-17T00:00:00\",\"2025-06-18T00:00:00\",\"2025-06-20T00:00:00\",\"2025-06-23T00:00:00\",\"2025-06-24T00:00:00\",\"2025-06-25T00:00:00\",\"2025-06-26T00:00:00\"],\"xaxis\":\"x\",\"y\":[200.4199981689453,199.9499969482422,200.85000610351562,201.6999969482422,203.27000427246094,202.82000732421875,200.6300048828125,203.9199981689453,201.4499969482422,202.6699981689453,198.77999877929688,199.1999969482422,196.4499969482422,198.4199981689453,195.63999938964844,196.5800018310547,201.0,201.5,200.3000030517578,201.55999755859375,200.6999969482422],\"yaxis\":\"y\",\"type\":\"scatter\"},{\"hovertemplate\":\"Company=AMZN\\u003cbr\\u003eDate=%{x}\\u003cbr\\u003eClose=%{y}\\u003cextra\\u003e\\u003c\\u002fextra\\u003e\",\"legendgroup\":\"AMZN\",\"line\":{\"color\":\"#EF553B\",\"dash\":\"solid\"},\"marker\":{\"symbol\":\"circle\"},\"mode\":\"lines+markers\",\"name\":\"AMZN\",\"orientation\":\"v\",\"showlegend\":true,\"x\":[\"2025-05-28T00:00:00\",\"2025-05-29T00:00:00\",\"2025-05-30T00:00:00\",\"2025-06-02T00:00:00\",\"2025-06-03T00:00:00\",\"2025-06-04T00:00:00\",\"2025-06-05T00:00:00\",\"2025-06-06T00:00:00\",\"2025-06-09T00:00:00\",\"2025-06-10T00:00:00\",\"2025-06-11T00:00:00\",\"2025-06-12T00:00:00\",\"2025-06-13T00:00:00\",\"2025-06-16T00:00:00\",\"2025-06-17T00:00:00\",\"2025-06-18T00:00:00\",\"2025-06-20T00:00:00\",\"2025-06-23T00:00:00\",\"2025-06-24T00:00:00\",\"2025-06-25T00:00:00\",\"2025-06-26T00:00:00\"],\"xaxis\":\"x\",\"y\":[204.72000122070312,205.6999969482422,205.00999450683594,206.64999389648438,205.7100067138672,207.22999572753906,207.91000366210938,213.57000732421875,216.97999572753906,217.61000061035156,213.1999969482422,213.24000549316406,212.10000610351562,216.10000610351562,214.82000732421875,212.52000427246094,209.69000244140625,208.47000122070312,212.77000427246094,211.99000549316406,216.67999267578125],\"yaxis\":\"y\",\"type\":\"scatter\"},{\"hovertemplate\":\"Company=GOOG\\u003cbr\\u003eDate=%{x}\\u003cbr\\u003eClose=%{y}\\u003cextra\\u003e\\u003c\\u002fextra\\u003e\",\"legendgroup\":\"GOOG\",\"line\":{\"color\":\"#00cc96\",\"dash\":\"solid\"},\"marker\":{\"symbol\":\"circle\"},\"mode\":\"lines+markers\",\"name\":\"GOOG\",\"orientation\":\"v\",\"showlegend\":true,\"x\":[\"2025-05-28T00:00:00\",\"2025-05-29T00:00:00\",\"2025-05-30T00:00:00\",\"2025-06-02T00:00:00\",\"2025-06-03T00:00:00\",\"2025-06-04T00:00:00\",\"2025-06-05T00:00:00\",\"2025-06-06T00:00:00\",\"2025-06-09T00:00:00\",\"2025-06-10T00:00:00\",\"2025-06-11T00:00:00\",\"2025-06-12T00:00:00\",\"2025-06-13T00:00:00\",\"2025-06-16T00:00:00\",\"2025-06-17T00:00:00\",\"2025-06-18T00:00:00\",\"2025-06-20T00:00:00\",\"2025-06-23T00:00:00\",\"2025-06-24T00:00:00\",\"2025-06-25T00:00:00\",\"2025-06-26T00:00:00\"],\"xaxis\":\"x\",\"y\":[173.17185974121094,172.7523651123047,172.64248657226562,170.1654510498047,167.5086669921875,169.18663024902344,169.6061248779297,174.70999145507812,177.6300048828125,180.00999450683594,178.7899932861328,176.97000122070312,175.8800048828125,177.94000244140625,177.22999572753906,173.97999572753906,167.72999572753906,166.00999450683594,167.74000549316406,171.49000549316406,174.2050018310547],\"yaxis\":\"y\",\"type\":\"scatter\"},{\"hovertemplate\":\"Company=MSFT\\u003cbr\\u003eDate=%{x}\\u003cbr\\u003eClose=%{y}\\u003cextra\\u003e\\u003c\\u002fextra\\u003e\",\"legendgroup\":\"MSFT\",\"line\":{\"color\":\"#ab63fa\",\"dash\":\"solid\"},\"marker\":{\"symbol\":\"circle\"},\"mode\":\"lines+markers\",\"name\":\"MSFT\",\"orientation\":\"v\",\"showlegend\":true,\"x\":[\"2025-05-28T00:00:00\",\"2025-05-29T00:00:00\",\"2025-05-30T00:00:00\",\"2025-06-02T00:00:00\",\"2025-06-03T00:00:00\",\"2025-06-04T00:00:00\",\"2025-06-05T00:00:00\",\"2025-06-06T00:00:00\",\"2025-06-09T00:00:00\",\"2025-06-10T00:00:00\",\"2025-06-11T00:00:00\",\"2025-06-12T00:00:00\",\"2025-06-13T00:00:00\",\"2025-06-16T00:00:00\",\"2025-06-17T00:00:00\",\"2025-06-18T00:00:00\",\"2025-06-20T00:00:00\",\"2025-06-23T00:00:00\",\"2025-06-24T00:00:00\",\"2025-06-25T00:00:00\",\"2025-06-26T00:00:00\"],\"xaxis\":\"x\",\"y\":[457.3599853515625,458.67999267578125,460.3599853515625,461.9700012207031,462.9700012207031,463.8699951171875,467.67999267578125,470.3800048828125,472.75,470.9200134277344,472.6199951171875,478.8699951171875,474.9599914550781,479.1400146484375,478.0400085449219,480.239990234375,477.3999938964844,486.0,490.1099853515625,492.2699890136719,496.5950012207031],\"yaxis\":\"y\",\"type\":\"scatter\"}],                        {\"template\":{\"data\":{\"barpolar\":[{\"marker\":{\"line\":{\"color\":\"rgb(17,17,17)\",\"width\":0.5},\"pattern\":{\"fillmode\":\"overlay\",\"size\":10,\"solidity\":0.2}},\"type\":\"barpolar\"}],\"bar\":[{\"error_x\":{\"color\":\"#f2f5fa\"},\"error_y\":{\"color\":\"#f2f5fa\"},\"marker\":{\"line\":{\"color\":\"rgb(17,17,17)\",\"width\":0.5},\"pattern\":{\"fillmode\":\"overlay\",\"size\":10,\"solidity\":0.2}},\"type\":\"bar\"}],\"carpet\":[{\"aaxis\":{\"endlinecolor\":\"#A2B1C6\",\"gridcolor\":\"#506784\",\"linecolor\":\"#506784\",\"minorgridcolor\":\"#506784\",\"startlinecolor\":\"#A2B1C6\"},\"baxis\":{\"endlinecolor\":\"#A2B1C6\",\"gridcolor\":\"#506784\",\"linecolor\":\"#506784\",\"minorgridcolor\":\"#506784\",\"startlinecolor\":\"#A2B1C6\"},\"type\":\"carpet\"}],\"choropleth\":[{\"colorbar\":{\"outlinewidth\":0,\"ticks\":\"\"},\"type\":\"choropleth\"}],\"contourcarpet\":[{\"colorbar\":{\"outlinewidth\":0,\"ticks\":\"\"},\"type\":\"contourcarpet\"}],\"contour\":[{\"colorbar\":{\"outlinewidth\":0,\"ticks\":\"\"},\"colorscale\":[[0.0,\"#0d0887\"],[0.1111111111111111,\"#46039f\"],[0.2222222222222222,\"#7201a8\"],[0.3333333333333333,\"#9c179e\"],[0.4444444444444444,\"#bd3786\"],[0.5555555555555556,\"#d8576b\"],[0.6666666666666666,\"#ed7953\"],[0.7777777777777778,\"#fb9f3a\"],[0.8888888888888888,\"#fdca26\"],[1.0,\"#f0f921\"]],\"type\":\"contour\"}],\"heatmapgl\":[{\"colorbar\":{\"outlinewidth\":0,\"ticks\":\"\"},\"colorscale\":[[0.0,\"#0d0887\"],[0.1111111111111111,\"#46039f\"],[0.2222222222222222,\"#7201a8\"],[0.3333333333333333,\"#9c179e\"],[0.4444444444444444,\"#bd3786\"],[0.5555555555555556,\"#d8576b\"],[0.6666666666666666,\"#ed7953\"],[0.7777777777777778,\"#fb9f3a\"],[0.8888888888888888,\"#fdca26\"],[1.0,\"#f0f921\"]],\"type\":\"heatmapgl\"}],\"heatmap\":[{\"colorbar\":{\"outlinewidth\":0,\"ticks\":\"\"},\"colorscale\":[[0.0,\"#0d0887\"],[0.1111111111111111,\"#46039f\"],[0.2222222222222222,\"#7201a8\"],[0.3333333333333333,\"#9c179e\"],[0.4444444444444444,\"#bd3786\"],[0.5555555555555556,\"#d8576b\"],[0.6666666666666666,\"#ed7953\"],[0.7777777777777778,\"#fb9f3a\"],[0.8888888888888888,\"#fdca26\"],[1.0,\"#f0f921\"]],\"type\":\"heatmap\"}],\"histogram2dcontour\":[{\"colorbar\":{\"outlinewidth\":0,\"ticks\":\"\"},\"colorscale\":[[0.0,\"#0d0887\"],[0.1111111111111111,\"#46039f\"],[0.2222222222222222,\"#7201a8\"],[0.3333333333333333,\"#9c179e\"],[0.4444444444444444,\"#bd3786\"],[0.5555555555555556,\"#d8576b\"],[0.6666666666666666,\"#ed7953\"],[0.7777777777777778,\"#fb9f3a\"],[0.8888888888888888,\"#fdca26\"],[1.0,\"#f0f921\"]],\"type\":\"histogram2dcontour\"}],\"histogram2d\":[{\"colorbar\":{\"outlinewidth\":0,\"ticks\":\"\"},\"colorscale\":[[0.0,\"#0d0887\"],[0.1111111111111111,\"#46039f\"],[0.2222222222222222,\"#7201a8\"],[0.3333333333333333,\"#9c179e\"],[0.4444444444444444,\"#bd3786\"],[0.5555555555555556,\"#d8576b\"],[0.6666666666666666,\"#ed7953\"],[0.7777777777777778,\"#fb9f3a\"],[0.8888888888888888,\"#fdca26\"],[1.0,\"#f0f921\"]],\"type\":\"histogram2d\"}],\"histogram\":[{\"marker\":{\"pattern\":{\"fillmode\":\"overlay\",\"size\":10,\"solidity\":0.2}},\"type\":\"histogram\"}],\"mesh3d\":[{\"colorbar\":{\"outlinewidth\":0,\"ticks\":\"\"},\"type\":\"mesh3d\"}],\"parcoords\":[{\"line\":{\"colorbar\":{\"outlinewidth\":0,\"ticks\":\"\"}},\"type\":\"parcoords\"}],\"pie\":[{\"automargin\":true,\"type\":\"pie\"}],\"scatter3d\":[{\"line\":{\"colorbar\":{\"outlinewidth\":0,\"ticks\":\"\"}},\"marker\":{\"colorbar\":{\"outlinewidth\":0,\"ticks\":\"\"}},\"type\":\"scatter3d\"}],\"scattercarpet\":[{\"marker\":{\"colorbar\":{\"outlinewidth\":0,\"ticks\":\"\"}},\"type\":\"scattercarpet\"}],\"scattergeo\":[{\"marker\":{\"colorbar\":{\"outlinewidth\":0,\"ticks\":\"\"}},\"type\":\"scattergeo\"}],\"scattergl\":[{\"marker\":{\"line\":{\"color\":\"#283442\"}},\"type\":\"scattergl\"}],\"scattermapbox\":[{\"marker\":{\"colorbar\":{\"outlinewidth\":0,\"ticks\":\"\"}},\"type\":\"scattermapbox\"}],\"scatterpolargl\":[{\"marker\":{\"colorbar\":{\"outlinewidth\":0,\"ticks\":\"\"}},\"type\":\"scatterpolargl\"}],\"scatterpolar\":[{\"marker\":{\"colorbar\":{\"outlinewidth\":0,\"ticks\":\"\"}},\"type\":\"scatterpolar\"}],\"scatter\":[{\"marker\":{\"line\":{\"color\":\"#283442\"}},\"type\":\"scatter\"}],\"scatterternary\":[{\"marker\":{\"colorbar\":{\"outlinewidth\":0,\"ticks\":\"\"}},\"type\":\"scatterternary\"}],\"surface\":[{\"colorbar\":{\"outlinewidth\":0,\"ticks\":\"\"},\"colorscale\":[[0.0,\"#0d0887\"],[0.1111111111111111,\"#46039f\"],[0.2222222222222222,\"#7201a8\"],[0.3333333333333333,\"#9c179e\"],[0.4444444444444444,\"#bd3786\"],[0.5555555555555556,\"#d8576b\"],[0.6666666666666666,\"#ed7953\"],[0.7777777777777778,\"#fb9f3a\"],[0.8888888888888888,\"#fdca26\"],[1.0,\"#f0f921\"]],\"type\":\"surface\"}],\"table\":[{\"cells\":{\"fill\":{\"color\":\"#506784\"},\"line\":{\"color\":\"rgb(17,17,17)\"}},\"header\":{\"fill\":{\"color\":\"#2a3f5f\"},\"line\":{\"color\":\"rgb(17,17,17)\"}},\"type\":\"table\"}]},\"layout\":{\"annotationdefaults\":{\"arrowcolor\":\"#f2f5fa\",\"arrowhead\":0,\"arrowwidth\":1},\"autotypenumbers\":\"strict\",\"coloraxis\":{\"colorbar\":{\"outlinewidth\":0,\"ticks\":\"\"}},\"colorscale\":{\"diverging\":[[0,\"#8e0152\"],[0.1,\"#c51b7d\"],[0.2,\"#de77ae\"],[0.3,\"#f1b6da\"],[0.4,\"#fde0ef\"],[0.5,\"#f7f7f7\"],[0.6,\"#e6f5d0\"],[0.7,\"#b8e186\"],[0.8,\"#7fbc41\"],[0.9,\"#4d9221\"],[1,\"#276419\"]],\"sequential\":[[0.0,\"#0d0887\"],[0.1111111111111111,\"#46039f\"],[0.2222222222222222,\"#7201a8\"],[0.3333333333333333,\"#9c179e\"],[0.4444444444444444,\"#bd3786\"],[0.5555555555555556,\"#d8576b\"],[0.6666666666666666,\"#ed7953\"],[0.7777777777777778,\"#fb9f3a\"],[0.8888888888888888,\"#fdca26\"],[1.0,\"#f0f921\"]],\"sequentialminus\":[[0.0,\"#0d0887\"],[0.1111111111111111,\"#46039f\"],[0.2222222222222222,\"#7201a8\"],[0.3333333333333333,\"#9c179e\"],[0.4444444444444444,\"#bd3786\"],[0.5555555555555556,\"#d8576b\"],[0.6666666666666666,\"#ed7953\"],[0.7777777777777778,\"#fb9f3a\"],[0.8888888888888888,\"#fdca26\"],[1.0,\"#f0f921\"]]},\"colorway\":[\"#636efa\",\"#EF553B\",\"#00cc96\",\"#ab63fa\",\"#FFA15A\",\"#19d3f3\",\"#FF6692\",\"#B6E880\",\"#FF97FF\",\"#FECB52\"],\"font\":{\"color\":\"#f2f5fa\"},\"geo\":{\"bgcolor\":\"rgb(17,17,17)\",\"lakecolor\":\"rgb(17,17,17)\",\"landcolor\":\"rgb(17,17,17)\",\"showlakes\":true,\"showland\":true,\"subunitcolor\":\"#506784\"},\"hoverlabel\":{\"align\":\"left\"},\"hovermode\":\"closest\",\"mapbox\":{\"style\":\"dark\"},\"paper_bgcolor\":\"rgb(17,17,17)\",\"plot_bgcolor\":\"rgb(17,17,17)\",\"polar\":{\"angularaxis\":{\"gridcolor\":\"#506784\",\"linecolor\":\"#506784\",\"ticks\":\"\"},\"bgcolor\":\"rgb(17,17,17)\",\"radialaxis\":{\"gridcolor\":\"#506784\",\"linecolor\":\"#506784\",\"ticks\":\"\"}},\"scene\":{\"xaxis\":{\"backgroundcolor\":\"rgb(17,17,17)\",\"gridcolor\":\"#506784\",\"gridwidth\":2,\"linecolor\":\"#506784\",\"showbackground\":true,\"ticks\":\"\",\"zerolinecolor\":\"#C8D4E3\"},\"yaxis\":{\"backgroundcolor\":\"rgb(17,17,17)\",\"gridcolor\":\"#506784\",\"gridwidth\":2,\"linecolor\":\"#506784\",\"showbackground\":true,\"ticks\":\"\",\"zerolinecolor\":\"#C8D4E3\"},\"zaxis\":{\"backgroundcolor\":\"rgb(17,17,17)\",\"gridcolor\":\"#506784\",\"gridwidth\":2,\"linecolor\":\"#506784\",\"showbackground\":true,\"ticks\":\"\",\"zerolinecolor\":\"#C8D4E3\"}},\"shapedefaults\":{\"line\":{\"color\":\"#f2f5fa\"}},\"sliderdefaults\":{\"bgcolor\":\"#C8D4E3\",\"bordercolor\":\"rgb(17,17,17)\",\"borderwidth\":1,\"tickwidth\":0},\"ternary\":{\"aaxis\":{\"gridcolor\":\"#506784\",\"linecolor\":\"#506784\",\"ticks\":\"\"},\"baxis\":{\"gridcolor\":\"#506784\",\"linecolor\":\"#506784\",\"ticks\":\"\"},\"bgcolor\":\"rgb(17,17,17)\",\"caxis\":{\"gridcolor\":\"#506784\",\"linecolor\":\"#506784\",\"ticks\":\"\"}},\"title\":{\"x\":0.05},\"updatemenudefaults\":{\"bgcolor\":\"#506784\",\"borderwidth\":0},\"xaxis\":{\"automargin\":true,\"gridcolor\":\"#283442\",\"linecolor\":\"#506784\",\"ticks\":\"\",\"title\":{\"standoff\":15},\"zerolinecolor\":\"#283442\",\"zerolinewidth\":2},\"yaxis\":{\"automargin\":true,\"gridcolor\":\"#283442\",\"linecolor\":\"#506784\",\"ticks\":\"\",\"title\":{\"standoff\":15},\"zerolinecolor\":\"#283442\",\"zerolinewidth\":2}}},\"xaxis\":{\"anchor\":\"y\",\"domain\":[0.0,1.0],\"title\":{\"text\":\"Date\"}},\"yaxis\":{\"anchor\":\"x\",\"domain\":[0.0,1.0],\"title\":{\"text\":\"Closing Price\"}},\"legend\":{\"title\":{\"text\":\"Company\"},\"tracegroupgap\":0},\"title\":{\"text\":\"Stock Closing Prices - Last 30 Days\"}},                        {\"responsive\": true}                    ).then(function(){\n",
       "                            \n",
       "var gd = document.getElementById('61b5404d-ebef-4724-9b1d-6bbecc004b80');\n",
       "var x = new MutationObserver(function (mutations, observer) {{\n",
       "        var display = window.getComputedStyle(gd).display;\n",
       "        if (!display || display === 'none') {{\n",
       "            console.log([gd, 'removed!']);\n",
       "            Plotly.purge(gd);\n",
       "            observer.disconnect();\n",
       "        }}\n",
       "}});\n",
       "\n",
       "// Listen for the removal of the full notebook cells\n",
       "var notebookContainer = gd.closest('#notebook-container');\n",
       "if (notebookContainer) {{\n",
       "    x.observe(notebookContainer, {childList: true});\n",
       "}}\n",
       "\n",
       "// Listen for the clearing of the current output cell\n",
       "var outputEl = gd.closest('.output');\n",
       "if (outputEl) {{\n",
       "    x.observe(outputEl, {childList: true});\n",
       "}}\n",
       "\n",
       "                        })                };                });            </script>        </div>"
      ]
     },
     "metadata": {},
     "output_type": "display_data"
    }
   ],
   "source": [
    "import plotly.express as px\n",
    "\n",
    "# Assuming your final combined DataFrame is df_final\n",
    "fig = px.line(df_final, x='Date', y='Close', color='Company',\n",
    "              title='Stock Closing Prices - Last 30 Days',\n",
    "              markers=True)\n",
    "\n",
    "fig.update_layout(\n",
    "    xaxis_title='Date',\n",
    "    yaxis_title='Closing Price',\n",
    "    legend_title='Company',\n",
    "    template='plotly_dark'  # You can also try 'plotly_white', 'ggplot2', etc.\n",
    ")\n",
    "\n",
    "fig.show()\n"
   ]
  },
  {
   "cell_type": "code",
   "execution_count": 91,
   "id": "49ea03d4-bc49-4fd3-a113-2fb989cf05c8",
   "metadata": {},
   "outputs": [
    {
     "data": {
      "text/html": [
       "<div>\n",
       "<style scoped>\n",
       "    .dataframe tbody tr th:only-of-type {\n",
       "        vertical-align: middle;\n",
       "    }\n",
       "\n",
       "    .dataframe tbody tr th {\n",
       "        vertical-align: top;\n",
       "    }\n",
       "\n",
       "    .dataframe thead th {\n",
       "        text-align: right;\n",
       "    }\n",
       "</style>\n",
       "<table border=\"1\" class=\"dataframe\">\n",
       "  <thead>\n",
       "    <tr style=\"text-align: right;\">\n",
       "      <th></th>\n",
       "      <th>max</th>\n",
       "      <th>min</th>\n",
       "      <th>mean</th>\n",
       "      <th>std</th>\n",
       "    </tr>\n",
       "    <tr>\n",
       "      <th>Company</th>\n",
       "      <th></th>\n",
       "      <th></th>\n",
       "      <th></th>\n",
       "      <th></th>\n",
       "    </tr>\n",
       "  </thead>\n",
       "  <tbody>\n",
       "    <tr>\n",
       "      <th>AAPL</th>\n",
       "      <td>203.919998</td>\n",
       "      <td>195.639999</td>\n",
       "      <td>200.371905</td>\n",
       "      <td>2.221754</td>\n",
       "    </tr>\n",
       "    <tr>\n",
       "      <th>AMZN</th>\n",
       "      <td>217.610001</td>\n",
       "      <td>204.720001</td>\n",
       "      <td>211.079525</td>\n",
       "      <td>4.233637</td>\n",
       "    </tr>\n",
       "    <tr>\n",
       "      <th>GOOG</th>\n",
       "      <td>180.009995</td>\n",
       "      <td>166.009995</td>\n",
       "      <td>173.111837</td>\n",
       "      <td>4.162785</td>\n",
       "    </tr>\n",
       "    <tr>\n",
       "      <th>MSFT</th>\n",
       "      <td>496.595001</td>\n",
       "      <td>457.359985</td>\n",
       "      <td>473.961187</td>\n",
       "      <td>11.176639</td>\n",
       "    </tr>\n",
       "  </tbody>\n",
       "</table>\n",
       "</div>"
      ],
      "text/plain": [
       "                max         min        mean        std\n",
       "Company                                               \n",
       "AAPL     203.919998  195.639999  200.371905   2.221754\n",
       "AMZN     217.610001  204.720001  211.079525   4.233637\n",
       "GOOG     180.009995  166.009995  173.111837   4.162785\n",
       "MSFT     496.595001  457.359985  473.961187  11.176639"
      ]
     },
     "execution_count": 91,
     "metadata": {},
     "output_type": "execute_result"
    }
   ],
   "source": [
    "df_final.groupby('Company')['Close'].agg(['max', 'min', 'mean', 'std'])\n"
   ]
  },
  {
   "cell_type": "markdown",
   "id": "5acb74ea-331e-4968-a88c-4734fbcbcc40",
   "metadata": {},
   "source": [
    "## LSTM for Stock Price Prediction"
   ]
  },
  {
   "cell_type": "code",
   "execution_count": 92,
   "id": "d34fb17b-8d6e-47df-8c16-2a3801dd85a9",
   "metadata": {},
   "outputs": [
    {
     "name": "stdout",
     "output_type": "stream",
     "text": [
      "Defaulting to user installation because normal site-packages is not writeable\n",
      "Requirement already satisfied: tensorflow in c:\\users\\lenovo\\appdata\\roaming\\python\\python312\\site-packages (2.19.0)\n",
      "Requirement already satisfied: scikit-learn in c:\\programdata\\anaconda3\\lib\\site-packages (1.5.1)\n",
      "Requirement already satisfied: matplotlib in c:\\programdata\\anaconda3\\lib\\site-packages (3.9.2)\n",
      "Requirement already satisfied: absl-py>=1.0.0 in c:\\users\\lenovo\\appdata\\roaming\\python\\python312\\site-packages (from tensorflow) (2.3.0)\n",
      "Requirement already satisfied: astunparse>=1.6.0 in c:\\users\\lenovo\\appdata\\roaming\\python\\python312\\site-packages (from tensorflow) (1.6.3)\n",
      "Requirement already satisfied: flatbuffers>=24.3.25 in c:\\users\\lenovo\\appdata\\roaming\\python\\python312\\site-packages (from tensorflow) (25.2.10)\n",
      "Requirement already satisfied: gast!=0.5.0,!=0.5.1,!=0.5.2,>=0.2.1 in c:\\users\\lenovo\\appdata\\roaming\\python\\python312\\site-packages (from tensorflow) (0.6.0)\n",
      "Requirement already satisfied: google-pasta>=0.1.1 in c:\\users\\lenovo\\appdata\\roaming\\python\\python312\\site-packages (from tensorflow) (0.2.0)\n",
      "Requirement already satisfied: libclang>=13.0.0 in c:\\users\\lenovo\\appdata\\roaming\\python\\python312\\site-packages (from tensorflow) (18.1.1)\n",
      "Requirement already satisfied: opt-einsum>=2.3.2 in c:\\users\\lenovo\\appdata\\roaming\\python\\python312\\site-packages (from tensorflow) (3.4.0)\n",
      "Requirement already satisfied: packaging in c:\\programdata\\anaconda3\\lib\\site-packages (from tensorflow) (24.1)\n",
      "Requirement already satisfied: protobuf!=4.21.0,!=4.21.1,!=4.21.2,!=4.21.3,!=4.21.4,!=4.21.5,<6.0.0dev,>=3.20.3 in c:\\programdata\\anaconda3\\lib\\site-packages (from tensorflow) (4.25.3)\n",
      "Requirement already satisfied: requests<3,>=2.21.0 in c:\\programdata\\anaconda3\\lib\\site-packages (from tensorflow) (2.32.3)\n",
      "Requirement already satisfied: setuptools in c:\\programdata\\anaconda3\\lib\\site-packages (from tensorflow) (75.1.0)\n",
      "Requirement already satisfied: six>=1.12.0 in c:\\programdata\\anaconda3\\lib\\site-packages (from tensorflow) (1.16.0)\n",
      "Requirement already satisfied: termcolor>=1.1.0 in c:\\users\\lenovo\\appdata\\roaming\\python\\python312\\site-packages (from tensorflow) (3.1.0)\n",
      "Requirement already satisfied: typing-extensions>=3.6.6 in c:\\programdata\\anaconda3\\lib\\site-packages (from tensorflow) (4.11.0)\n",
      "Requirement already satisfied: wrapt>=1.11.0 in c:\\programdata\\anaconda3\\lib\\site-packages (from tensorflow) (1.14.1)\n",
      "Requirement already satisfied: grpcio<2.0,>=1.24.3 in c:\\users\\lenovo\\appdata\\roaming\\python\\python312\\site-packages (from tensorflow) (1.73.0)\n",
      "Requirement already satisfied: tensorboard~=2.19.0 in c:\\users\\lenovo\\appdata\\roaming\\python\\python312\\site-packages (from tensorflow) (2.19.0)\n",
      "Requirement already satisfied: keras>=3.5.0 in c:\\users\\lenovo\\appdata\\roaming\\python\\python312\\site-packages (from tensorflow) (3.10.0)\n",
      "Requirement already satisfied: numpy<2.2.0,>=1.26.0 in c:\\programdata\\anaconda3\\lib\\site-packages (from tensorflow) (1.26.4)\n",
      "Requirement already satisfied: h5py>=3.11.0 in c:\\programdata\\anaconda3\\lib\\site-packages (from tensorflow) (3.11.0)\n",
      "Requirement already satisfied: ml-dtypes<1.0.0,>=0.5.1 in c:\\users\\lenovo\\appdata\\roaming\\python\\python312\\site-packages (from tensorflow) (0.5.1)\n",
      "Requirement already satisfied: scipy>=1.6.0 in c:\\programdata\\anaconda3\\lib\\site-packages (from scikit-learn) (1.13.1)\n",
      "Requirement already satisfied: joblib>=1.2.0 in c:\\programdata\\anaconda3\\lib\\site-packages (from scikit-learn) (1.4.2)\n",
      "Requirement already satisfied: threadpoolctl>=3.1.0 in c:\\programdata\\anaconda3\\lib\\site-packages (from scikit-learn) (3.5.0)\n",
      "Requirement already satisfied: contourpy>=1.0.1 in c:\\programdata\\anaconda3\\lib\\site-packages (from matplotlib) (1.2.0)\n",
      "Requirement already satisfied: cycler>=0.10 in c:\\programdata\\anaconda3\\lib\\site-packages (from matplotlib) (0.11.0)\n",
      "Requirement already satisfied: fonttools>=4.22.0 in c:\\programdata\\anaconda3\\lib\\site-packages (from matplotlib) (4.51.0)\n",
      "Requirement already satisfied: kiwisolver>=1.3.1 in c:\\programdata\\anaconda3\\lib\\site-packages (from matplotlib) (1.4.4)\n",
      "Requirement already satisfied: pillow>=8 in c:\\programdata\\anaconda3\\lib\\site-packages (from matplotlib) (10.4.0)\n",
      "Requirement already satisfied: pyparsing>=2.3.1 in c:\\programdata\\anaconda3\\lib\\site-packages (from matplotlib) (3.1.2)\n",
      "Requirement already satisfied: python-dateutil>=2.7 in c:\\programdata\\anaconda3\\lib\\site-packages (from matplotlib) (2.9.0.post0)\n",
      "Requirement already satisfied: wheel<1.0,>=0.23.0 in c:\\programdata\\anaconda3\\lib\\site-packages (from astunparse>=1.6.0->tensorflow) (0.44.0)\n",
      "Requirement already satisfied: rich in c:\\programdata\\anaconda3\\lib\\site-packages (from keras>=3.5.0->tensorflow) (13.7.1)\n",
      "Requirement already satisfied: namex in c:\\users\\lenovo\\appdata\\roaming\\python\\python312\\site-packages (from keras>=3.5.0->tensorflow) (0.1.0)\n",
      "Requirement already satisfied: optree in c:\\users\\lenovo\\appdata\\roaming\\python\\python312\\site-packages (from keras>=3.5.0->tensorflow) (0.16.0)\n",
      "Requirement already satisfied: charset-normalizer<4,>=2 in c:\\programdata\\anaconda3\\lib\\site-packages (from requests<3,>=2.21.0->tensorflow) (3.3.2)\n",
      "Requirement already satisfied: idna<4,>=2.5 in c:\\programdata\\anaconda3\\lib\\site-packages (from requests<3,>=2.21.0->tensorflow) (3.7)\n",
      "Requirement already satisfied: urllib3<3,>=1.21.1 in c:\\programdata\\anaconda3\\lib\\site-packages (from requests<3,>=2.21.0->tensorflow) (2.2.3)\n",
      "Requirement already satisfied: certifi>=2017.4.17 in c:\\programdata\\anaconda3\\lib\\site-packages (from requests<3,>=2.21.0->tensorflow) (2024.8.30)\n",
      "Requirement already satisfied: markdown>=2.6.8 in c:\\programdata\\anaconda3\\lib\\site-packages (from tensorboard~=2.19.0->tensorflow) (3.4.1)\n",
      "Requirement already satisfied: tensorboard-data-server<0.8.0,>=0.7.0 in c:\\users\\lenovo\\appdata\\roaming\\python\\python312\\site-packages (from tensorboard~=2.19.0->tensorflow) (0.7.2)\n",
      "Requirement already satisfied: werkzeug>=1.0.1 in c:\\programdata\\anaconda3\\lib\\site-packages (from tensorboard~=2.19.0->tensorflow) (3.0.3)\n",
      "Requirement already satisfied: MarkupSafe>=2.1.1 in c:\\programdata\\anaconda3\\lib\\site-packages (from werkzeug>=1.0.1->tensorboard~=2.19.0->tensorflow) (2.1.3)\n",
      "Requirement already satisfied: markdown-it-py>=2.2.0 in c:\\programdata\\anaconda3\\lib\\site-packages (from rich->keras>=3.5.0->tensorflow) (2.2.0)\n",
      "Requirement already satisfied: pygments<3.0.0,>=2.13.0 in c:\\programdata\\anaconda3\\lib\\site-packages (from rich->keras>=3.5.0->tensorflow) (2.15.1)\n",
      "Requirement already satisfied: mdurl~=0.1 in c:\\programdata\\anaconda3\\lib\\site-packages (from markdown-it-py>=2.2.0->rich->keras>=3.5.0->tensorflow) (0.1.0)\n",
      "Note: you may need to restart the kernel to use updated packages.\n"
     ]
    }
   ],
   "source": [
    "pip install tensorflow scikit-learn matplotlib\n"
   ]
  },
  {
   "cell_type": "code",
   "execution_count": 106,
   "id": "655741a9-ad41-484d-ac17-dd19eaac85bc",
   "metadata": {},
   "outputs": [
    {
     "name": "stdout",
     "output_type": "stream",
     "text": [
      " Data ready for LSTM:  (24, 60, 1) (24,)\n"
     ]
    }
   ],
   "source": [
    "import numpy as np\n",
    "import pandas as pd\n",
    "import matplotlib.pyplot as plt\n",
    "from sklearn.preprocessing import MinMaxScaler\n",
    "from tensorflow.keras.models import Sequential\n",
    "from tensorflow.keras.layers import LSTM, Dense, Dropout\n",
    "\n",
    "# Use just the 'Date' and 'AAPL' columns\n",
    "aapl_data = df[['Date', 'AAPL']].copy()\n",
    "aapl_data.rename(columns={'AAPL': 'Close'}, inplace=True)\n",
    "aapl_data.set_index('Date', inplace=True)\n",
    "\n",
    "# Normalize the 'Close' prices\n",
    "scaler = MinMaxScaler(feature_range=(0, 1))\n",
    "scaled_data = scaler.fit_transform(aapl_data)\n",
    "\n",
    "# Create sequences\n",
    "X = []\n",
    "y = []\n",
    "sequence_length = 60\n",
    "\n",
    "for i in range(sequence_length, len(scaled_data)):\n",
    "    X.append(scaled_data[i - sequence_length:i, 0])\n",
    "    y.append(scaled_data[i, 0])\n",
    "\n",
    "X, y = np.array(X), np.array(y)\n",
    "\n",
    "# Reshape for LSTM input\n",
    "X = np.reshape(X, (X.shape[0], X.shape[1], 1))\n",
    "\n",
    "print(\" Data ready for LSTM: \", X.shape, y.shape)\n"
   ]
  },
  {
   "cell_type": "code",
   "execution_count": 111,
   "id": "0492e6d3-4333-4541-99fe-868de69ef63d",
   "metadata": {},
   "outputs": [
    {
     "name": "stdout",
     "output_type": "stream",
     "text": [
      "count     84.000000\n",
      "mean     200.659584\n",
      "std        2.636646\n",
      "min      195.070007\n",
      "25%      198.915005\n",
      "50%      200.625000\n",
      "75%      202.628754\n",
      "max      206.240005\n",
      "Name: AAPL, dtype: float64\n",
      "26    206.240005\n",
      "41    206.000000\n",
      "36    205.699997\n",
      "31    204.750000\n",
      "51    204.500000\n",
      "40    204.389999\n",
      "46    204.350006\n",
      "38    203.919998\n",
      "6     203.809998\n",
      "21    203.770004\n",
      "Name: AAPL, dtype: float64\n"
     ]
    }
   ],
   "source": [
    "print(df['AAPL'].describe())\n",
    "print(df['AAPL'].sort_values(ascending=False).head(10))\n"
   ]
  },
  {
   "cell_type": "code",
   "execution_count": 113,
   "id": "bb8ff3b4-63f9-4939-b541-24981328c29f",
   "metadata": {},
   "outputs": [
    {
     "data": {
      "text/html": [
       "<div>\n",
       "<style scoped>\n",
       "    .dataframe tbody tr th:only-of-type {\n",
       "        vertical-align: middle;\n",
       "    }\n",
       "\n",
       "    .dataframe tbody tr th {\n",
       "        vertical-align: top;\n",
       "    }\n",
       "\n",
       "    .dataframe thead th {\n",
       "        text-align: right;\n",
       "    }\n",
       "</style>\n",
       "<table border=\"1\" class=\"dataframe\">\n",
       "  <thead>\n",
       "    <tr style=\"text-align: right;\">\n",
       "      <th>Ticker</th>\n",
       "      <th>Date</th>\n",
       "      <th>Price</th>\n",
       "      <th>GOOG</th>\n",
       "      <th>MSFT</th>\n",
       "      <th>AMZN</th>\n",
       "      <th>AAPL</th>\n",
       "    </tr>\n",
       "  </thead>\n",
       "  <tbody>\n",
       "    <tr>\n",
       "      <th>0</th>\n",
       "      <td>2025-05-28</td>\n",
       "      <td>Open</td>\n",
       "      <td>173.771130</td>\n",
       "      <td>461.220001</td>\n",
       "      <td>205.919998</td>\n",
       "      <td>200.589996</td>\n",
       "    </tr>\n",
       "    <tr>\n",
       "      <th>1</th>\n",
       "      <td>2025-05-28</td>\n",
       "      <td>High</td>\n",
       "      <td>176.268129</td>\n",
       "      <td>462.519989</td>\n",
       "      <td>207.660004</td>\n",
       "      <td>202.729996</td>\n",
       "    </tr>\n",
       "    <tr>\n",
       "      <th>2</th>\n",
       "      <td>2025-05-28</td>\n",
       "      <td>Low</td>\n",
       "      <td>172.807292</td>\n",
       "      <td>456.929993</td>\n",
       "      <td>204.410004</td>\n",
       "      <td>199.899994</td>\n",
       "    </tr>\n",
       "    <tr>\n",
       "      <th>3</th>\n",
       "      <td>2025-05-28</td>\n",
       "      <td>Close</td>\n",
       "      <td>173.171860</td>\n",
       "      <td>457.359985</td>\n",
       "      <td>204.720001</td>\n",
       "      <td>200.419998</td>\n",
       "    </tr>\n",
       "    <tr>\n",
       "      <th>5</th>\n",
       "      <td>2025-05-29</td>\n",
       "      <td>Open</td>\n",
       "      <td>174.789909</td>\n",
       "      <td>461.549988</td>\n",
       "      <td>208.029999</td>\n",
       "      <td>203.580002</td>\n",
       "    </tr>\n",
       "    <tr>\n",
       "      <th>...</th>\n",
       "      <td>...</td>\n",
       "      <td>...</td>\n",
       "      <td>...</td>\n",
       "      <td>...</td>\n",
       "      <td>...</td>\n",
       "      <td>...</td>\n",
       "    </tr>\n",
       "    <tr>\n",
       "      <th>98</th>\n",
       "      <td>2025-06-25</td>\n",
       "      <td>Close</td>\n",
       "      <td>171.490005</td>\n",
       "      <td>492.269989</td>\n",
       "      <td>211.990005</td>\n",
       "      <td>201.559998</td>\n",
       "    </tr>\n",
       "    <tr>\n",
       "      <th>100</th>\n",
       "      <td>2025-06-26</td>\n",
       "      <td>Open</td>\n",
       "      <td>173.384995</td>\n",
       "      <td>492.980011</td>\n",
       "      <td>213.119995</td>\n",
       "      <td>201.429993</td>\n",
       "    </tr>\n",
       "    <tr>\n",
       "      <th>101</th>\n",
       "      <td>2025-06-26</td>\n",
       "      <td>High</td>\n",
       "      <td>174.440002</td>\n",
       "      <td>496.959991</td>\n",
       "      <td>216.865005</td>\n",
       "      <td>202.615005</td>\n",
       "    </tr>\n",
       "    <tr>\n",
       "      <th>102</th>\n",
       "      <td>2025-06-26</td>\n",
       "      <td>Low</td>\n",
       "      <td>170.860107</td>\n",
       "      <td>492.929993</td>\n",
       "      <td>212.009995</td>\n",
       "      <td>199.460007</td>\n",
       "    </tr>\n",
       "    <tr>\n",
       "      <th>103</th>\n",
       "      <td>2025-06-26</td>\n",
       "      <td>Close</td>\n",
       "      <td>174.205002</td>\n",
       "      <td>496.595001</td>\n",
       "      <td>216.679993</td>\n",
       "      <td>200.699997</td>\n",
       "    </tr>\n",
       "  </tbody>\n",
       "</table>\n",
       "<p>84 rows × 6 columns</p>\n",
       "</div>"
      ],
      "text/plain": [
       "Ticker       Date  Price        GOOG        MSFT        AMZN        AAPL\n",
       "0      2025-05-28   Open  173.771130  461.220001  205.919998  200.589996\n",
       "1      2025-05-28   High  176.268129  462.519989  207.660004  202.729996\n",
       "2      2025-05-28    Low  172.807292  456.929993  204.410004  199.899994\n",
       "3      2025-05-28  Close  173.171860  457.359985  204.720001  200.419998\n",
       "5      2025-05-29   Open  174.789909  461.549988  208.029999  203.580002\n",
       "..            ...    ...         ...         ...         ...         ...\n",
       "98     2025-06-25  Close  171.490005  492.269989  211.990005  201.559998\n",
       "100    2025-06-26   Open  173.384995  492.980011  213.119995  201.429993\n",
       "101    2025-06-26   High  174.440002  496.959991  216.865005  202.615005\n",
       "102    2025-06-26    Low  170.860107  492.929993  212.009995  199.460007\n",
       "103    2025-06-26  Close  174.205002  496.595001  216.679993  200.699997\n",
       "\n",
       "[84 rows x 6 columns]"
      ]
     },
     "execution_count": 113,
     "metadata": {},
     "output_type": "execute_result"
    }
   ],
   "source": [
    "df = df[df['AAPL'] < 2000]\n",
    "df"
   ]
  },
  {
   "cell_type": "code",
   "execution_count": 114,
   "id": "6d16269c-4311-465d-8276-64f6831f086e",
   "metadata": {},
   "outputs": [
    {
     "name": "stderr",
     "output_type": "stream",
     "text": [
      "C:\\Users\\lenovo\\AppData\\Roaming\\Python\\Python312\\site-packages\\keras\\src\\layers\\rnn\\rnn.py:199: UserWarning:\n",
      "\n",
      "Do not pass an `input_shape`/`input_dim` argument to a layer. When using Sequential models, prefer using an `Input(shape)` object as the first layer in the model instead.\n",
      "\n"
     ]
    }
   ],
   "source": [
    "from tensorflow.keras import Input\n",
    "from tensorflow.keras.models import Sequential\n",
    "from tensorflow.keras.layers import LSTM, Dropout, Dense\n",
    "\n",
    "# Step 1: Define the input shape\n",
    "input_shape = (X.shape[1], 1)\n",
    "\n",
    "model = Sequential()\n",
    "\n",
    "# First LSTM layer with return_sequences=True so next LSTM gets sequences\n",
    "model.add(LSTM(units=50, return_sequences=True, input_shape=(X.shape[1], 1)))\n",
    "model.add(Dropout(0.3))\n",
    "\n",
    "# Second LSTM layer\n",
    "model.add(LSTM(units=80, return_sequences=True))\n",
    "model.add(Dropout(0.3))\n",
    "\n",
    "# Third LSTM layer (last one with return_sequences=False)\n",
    "model.add(LSTM(units=50))\n",
    "model.add(Dropout(0.3))\n",
    "\n",
    "# Dense output layer\n",
    "model.add(Dense(units=1))\n",
    "\n",
    "\n",
    "# Step 3: Compile\n",
    "model.compile(optimizer='adam', loss='mean_squared_error')\n"
   ]
  },
  {
   "cell_type": "code",
   "execution_count": 115,
   "id": "239684ab-0511-4dbe-be02-d2aaa292af6c",
   "metadata": {},
   "outputs": [
    {
     "data": {
      "text/html": [
       "<pre style=\"white-space:pre;overflow-x:auto;line-height:normal;font-family:Menlo,'DejaVu Sans Mono',consolas,'Courier New',monospace\"><span style=\"font-weight: bold\">Model: \"sequential_7\"</span>\n",
       "</pre>\n"
      ],
      "text/plain": [
       "\u001b[1mModel: \"sequential_7\"\u001b[0m\n"
      ]
     },
     "metadata": {},
     "output_type": "display_data"
    },
    {
     "data": {
      "text/html": [
       "<pre style=\"white-space:pre;overflow-x:auto;line-height:normal;font-family:Menlo,'DejaVu Sans Mono',consolas,'Courier New',monospace\">┏━━━━━━━━━━━━━━━━━━━━━━━━━━━━━━━━━━━━━━┳━━━━━━━━━━━━━━━━━━━━━━━━━━━━━┳━━━━━━━━━━━━━━━━━┓\n",
       "┃<span style=\"font-weight: bold\"> Layer (type)                         </span>┃<span style=\"font-weight: bold\"> Output Shape                </span>┃<span style=\"font-weight: bold\">         Param # </span>┃\n",
       "┡━━━━━━━━━━━━━━━━━━━━━━━━━━━━━━━━━━━━━━╇━━━━━━━━━━━━━━━━━━━━━━━━━━━━━╇━━━━━━━━━━━━━━━━━┩\n",
       "│ lstm_17 (<span style=\"color: #0087ff; text-decoration-color: #0087ff\">LSTM</span>)                       │ (<span style=\"color: #00d7ff; text-decoration-color: #00d7ff\">None</span>, <span style=\"color: #00af00; text-decoration-color: #00af00\">60</span>, <span style=\"color: #00af00; text-decoration-color: #00af00\">50</span>)              │          <span style=\"color: #00af00; text-decoration-color: #00af00\">10,400</span> │\n",
       "├──────────────────────────────────────┼─────────────────────────────┼─────────────────┤\n",
       "│ dropout_15 (<span style=\"color: #0087ff; text-decoration-color: #0087ff\">Dropout</span>)                 │ (<span style=\"color: #00d7ff; text-decoration-color: #00d7ff\">None</span>, <span style=\"color: #00af00; text-decoration-color: #00af00\">60</span>, <span style=\"color: #00af00; text-decoration-color: #00af00\">50</span>)              │               <span style=\"color: #00af00; text-decoration-color: #00af00\">0</span> │\n",
       "├──────────────────────────────────────┼─────────────────────────────┼─────────────────┤\n",
       "│ lstm_18 (<span style=\"color: #0087ff; text-decoration-color: #0087ff\">LSTM</span>)                       │ (<span style=\"color: #00d7ff; text-decoration-color: #00d7ff\">None</span>, <span style=\"color: #00af00; text-decoration-color: #00af00\">60</span>, <span style=\"color: #00af00; text-decoration-color: #00af00\">80</span>)              │          <span style=\"color: #00af00; text-decoration-color: #00af00\">41,920</span> │\n",
       "├──────────────────────────────────────┼─────────────────────────────┼─────────────────┤\n",
       "│ dropout_16 (<span style=\"color: #0087ff; text-decoration-color: #0087ff\">Dropout</span>)                 │ (<span style=\"color: #00d7ff; text-decoration-color: #00d7ff\">None</span>, <span style=\"color: #00af00; text-decoration-color: #00af00\">60</span>, <span style=\"color: #00af00; text-decoration-color: #00af00\">80</span>)              │               <span style=\"color: #00af00; text-decoration-color: #00af00\">0</span> │\n",
       "├──────────────────────────────────────┼─────────────────────────────┼─────────────────┤\n",
       "│ lstm_19 (<span style=\"color: #0087ff; text-decoration-color: #0087ff\">LSTM</span>)                       │ (<span style=\"color: #00d7ff; text-decoration-color: #00d7ff\">None</span>, <span style=\"color: #00af00; text-decoration-color: #00af00\">50</span>)                  │          <span style=\"color: #00af00; text-decoration-color: #00af00\">26,200</span> │\n",
       "├──────────────────────────────────────┼─────────────────────────────┼─────────────────┤\n",
       "│ dropout_17 (<span style=\"color: #0087ff; text-decoration-color: #0087ff\">Dropout</span>)                 │ (<span style=\"color: #00d7ff; text-decoration-color: #00d7ff\">None</span>, <span style=\"color: #00af00; text-decoration-color: #00af00\">50</span>)                  │               <span style=\"color: #00af00; text-decoration-color: #00af00\">0</span> │\n",
       "├──────────────────────────────────────┼─────────────────────────────┼─────────────────┤\n",
       "│ dense_10 (<span style=\"color: #0087ff; text-decoration-color: #0087ff\">Dense</span>)                     │ (<span style=\"color: #00d7ff; text-decoration-color: #00d7ff\">None</span>, <span style=\"color: #00af00; text-decoration-color: #00af00\">1</span>)                   │              <span style=\"color: #00af00; text-decoration-color: #00af00\">51</span> │\n",
       "└──────────────────────────────────────┴─────────────────────────────┴─────────────────┘\n",
       "</pre>\n"
      ],
      "text/plain": [
       "┏━━━━━━━━━━━━━━━━━━━━━━━━━━━━━━━━━━━━━━┳━━━━━━━━━━━━━━━━━━━━━━━━━━━━━┳━━━━━━━━━━━━━━━━━┓\n",
       "┃\u001b[1m \u001b[0m\u001b[1mLayer (type)                        \u001b[0m\u001b[1m \u001b[0m┃\u001b[1m \u001b[0m\u001b[1mOutput Shape               \u001b[0m\u001b[1m \u001b[0m┃\u001b[1m \u001b[0m\u001b[1m        Param #\u001b[0m\u001b[1m \u001b[0m┃\n",
       "┡━━━━━━━━━━━━━━━━━━━━━━━━━━━━━━━━━━━━━━╇━━━━━━━━━━━━━━━━━━━━━━━━━━━━━╇━━━━━━━━━━━━━━━━━┩\n",
       "│ lstm_17 (\u001b[38;5;33mLSTM\u001b[0m)                       │ (\u001b[38;5;45mNone\u001b[0m, \u001b[38;5;34m60\u001b[0m, \u001b[38;5;34m50\u001b[0m)              │          \u001b[38;5;34m10,400\u001b[0m │\n",
       "├──────────────────────────────────────┼─────────────────────────────┼─────────────────┤\n",
       "│ dropout_15 (\u001b[38;5;33mDropout\u001b[0m)                 │ (\u001b[38;5;45mNone\u001b[0m, \u001b[38;5;34m60\u001b[0m, \u001b[38;5;34m50\u001b[0m)              │               \u001b[38;5;34m0\u001b[0m │\n",
       "├──────────────────────────────────────┼─────────────────────────────┼─────────────────┤\n",
       "│ lstm_18 (\u001b[38;5;33mLSTM\u001b[0m)                       │ (\u001b[38;5;45mNone\u001b[0m, \u001b[38;5;34m60\u001b[0m, \u001b[38;5;34m80\u001b[0m)              │          \u001b[38;5;34m41,920\u001b[0m │\n",
       "├──────────────────────────────────────┼─────────────────────────────┼─────────────────┤\n",
       "│ dropout_16 (\u001b[38;5;33mDropout\u001b[0m)                 │ (\u001b[38;5;45mNone\u001b[0m, \u001b[38;5;34m60\u001b[0m, \u001b[38;5;34m80\u001b[0m)              │               \u001b[38;5;34m0\u001b[0m │\n",
       "├──────────────────────────────────────┼─────────────────────────────┼─────────────────┤\n",
       "│ lstm_19 (\u001b[38;5;33mLSTM\u001b[0m)                       │ (\u001b[38;5;45mNone\u001b[0m, \u001b[38;5;34m50\u001b[0m)                  │          \u001b[38;5;34m26,200\u001b[0m │\n",
       "├──────────────────────────────────────┼─────────────────────────────┼─────────────────┤\n",
       "│ dropout_17 (\u001b[38;5;33mDropout\u001b[0m)                 │ (\u001b[38;5;45mNone\u001b[0m, \u001b[38;5;34m50\u001b[0m)                  │               \u001b[38;5;34m0\u001b[0m │\n",
       "├──────────────────────────────────────┼─────────────────────────────┼─────────────────┤\n",
       "│ dense_10 (\u001b[38;5;33mDense\u001b[0m)                     │ (\u001b[38;5;45mNone\u001b[0m, \u001b[38;5;34m1\u001b[0m)                   │              \u001b[38;5;34m51\u001b[0m │\n",
       "└──────────────────────────────────────┴─────────────────────────────┴─────────────────┘\n"
      ]
     },
     "metadata": {},
     "output_type": "display_data"
    },
    {
     "data": {
      "text/html": [
       "<pre style=\"white-space:pre;overflow-x:auto;line-height:normal;font-family:Menlo,'DejaVu Sans Mono',consolas,'Courier New',monospace\"><span style=\"font-weight: bold\"> Total params: </span><span style=\"color: #00af00; text-decoration-color: #00af00\">78,571</span> (306.92 KB)\n",
       "</pre>\n"
      ],
      "text/plain": [
       "\u001b[1m Total params: \u001b[0m\u001b[38;5;34m78,571\u001b[0m (306.92 KB)\n"
      ]
     },
     "metadata": {},
     "output_type": "display_data"
    },
    {
     "data": {
      "text/html": [
       "<pre style=\"white-space:pre;overflow-x:auto;line-height:normal;font-family:Menlo,'DejaVu Sans Mono',consolas,'Courier New',monospace\"><span style=\"font-weight: bold\"> Trainable params: </span><span style=\"color: #00af00; text-decoration-color: #00af00\">78,571</span> (306.92 KB)\n",
       "</pre>\n"
      ],
      "text/plain": [
       "\u001b[1m Trainable params: \u001b[0m\u001b[38;5;34m78,571\u001b[0m (306.92 KB)\n"
      ]
     },
     "metadata": {},
     "output_type": "display_data"
    },
    {
     "data": {
      "text/html": [
       "<pre style=\"white-space:pre;overflow-x:auto;line-height:normal;font-family:Menlo,'DejaVu Sans Mono',consolas,'Courier New',monospace\"><span style=\"font-weight: bold\"> Non-trainable params: </span><span style=\"color: #00af00; text-decoration-color: #00af00\">0</span> (0.00 B)\n",
       "</pre>\n"
      ],
      "text/plain": [
       "\u001b[1m Non-trainable params: \u001b[0m\u001b[38;5;34m0\u001b[0m (0.00 B)\n"
      ]
     },
     "metadata": {},
     "output_type": "display_data"
    }
   ],
   "source": [
    "model.summary()"
   ]
  },
  {
   "cell_type": "code",
   "execution_count": 116,
   "id": "885ffeea-66ea-4d5f-8eb4-5ce68e8cedd8",
   "metadata": {},
   "outputs": [
    {
     "name": "stdout",
     "output_type": "stream",
     "text": [
      "Epoch 1/25\n",
      "\u001b[1m2/2\u001b[0m \u001b[32m━━━━━━━━━━━━━━━━━━━━\u001b[0m\u001b[37m\u001b[0m \u001b[1m3s\u001b[0m 349ms/step - loss: 0.2310 - val_loss: 0.1173\n",
      "Epoch 2/25\n",
      "\u001b[1m2/2\u001b[0m \u001b[32m━━━━━━━━━━━━━━━━━━━━\u001b[0m\u001b[37m\u001b[0m \u001b[1m0s\u001b[0m 64ms/step - loss: 0.1306 - val_loss: 0.0161\n",
      "Epoch 3/25\n",
      "\u001b[1m2/2\u001b[0m \u001b[32m━━━━━━━━━━━━━━━━━━━━\u001b[0m\u001b[37m\u001b[0m \u001b[1m0s\u001b[0m 66ms/step - loss: 0.0738 - val_loss: 0.0394\n",
      "Epoch 4/25\n",
      "\u001b[1m2/2\u001b[0m \u001b[32m━━━━━━━━━━━━━━━━━━━━\u001b[0m\u001b[37m\u001b[0m \u001b[1m0s\u001b[0m 64ms/step - loss: 0.0882 - val_loss: 0.0160\n",
      "Epoch 5/25\n",
      "\u001b[1m2/2\u001b[0m \u001b[32m━━━━━━━━━━━━━━━━━━━━\u001b[0m\u001b[37m\u001b[0m \u001b[1m0s\u001b[0m 64ms/step - loss: 0.0674 - val_loss: 0.0208\n",
      "Epoch 6/25\n",
      "\u001b[1m2/2\u001b[0m \u001b[32m━━━━━━━━━━━━━━━━━━━━\u001b[0m\u001b[37m\u001b[0m \u001b[1m0s\u001b[0m 66ms/step - loss: 0.0621 - val_loss: 0.0286\n",
      "Epoch 7/25\n",
      "\u001b[1m2/2\u001b[0m \u001b[32m━━━━━━━━━━━━━━━━━━━━\u001b[0m\u001b[37m\u001b[0m \u001b[1m0s\u001b[0m 65ms/step - loss: 0.0758 - val_loss: 0.0258\n",
      "Epoch 8/25\n",
      "\u001b[1m2/2\u001b[0m \u001b[32m━━━━━━━━━━━━━━━━━━━━\u001b[0m\u001b[37m\u001b[0m \u001b[1m0s\u001b[0m 65ms/step - loss: 0.0657 - val_loss: 0.0188\n",
      "Epoch 9/25\n",
      "\u001b[1m2/2\u001b[0m \u001b[32m━━━━━━━━━━━━━━━━━━━━\u001b[0m\u001b[37m\u001b[0m \u001b[1m0s\u001b[0m 82ms/step - loss: 0.0548 - val_loss: 0.0146\n",
      "Epoch 10/25\n",
      "\u001b[1m2/2\u001b[0m \u001b[32m━━━━━━━━━━━━━━━━━━━━\u001b[0m\u001b[37m\u001b[0m \u001b[1m0s\u001b[0m 66ms/step - loss: 0.0569 - val_loss: 0.0181\n",
      "Epoch 11/25\n",
      "\u001b[1m2/2\u001b[0m \u001b[32m━━━━━━━━━━━━━━━━━━━━\u001b[0m\u001b[37m\u001b[0m \u001b[1m0s\u001b[0m 66ms/step - loss: 0.0540 - val_loss: 0.0253\n",
      "Epoch 12/25\n",
      "\u001b[1m2/2\u001b[0m \u001b[32m━━━━━━━━━━━━━━━━━━━━\u001b[0m\u001b[37m\u001b[0m \u001b[1m0s\u001b[0m 64ms/step - loss: 0.0484 - val_loss: 0.0278\n",
      "Epoch 13/25\n",
      "\u001b[1m2/2\u001b[0m \u001b[32m━━━━━━━━━━━━━━━━━━━━\u001b[0m\u001b[37m\u001b[0m \u001b[1m0s\u001b[0m 64ms/step - loss: 0.0539 - val_loss: 0.0222\n",
      "Epoch 14/25\n",
      "\u001b[1m2/2\u001b[0m \u001b[32m━━━━━━━━━━━━━━━━━━━━\u001b[0m\u001b[37m\u001b[0m \u001b[1m0s\u001b[0m 63ms/step - loss: 0.0363 - val_loss: 0.0168\n",
      "Epoch 15/25\n",
      "\u001b[1m2/2\u001b[0m \u001b[32m━━━━━━━━━━━━━━━━━━━━\u001b[0m\u001b[37m\u001b[0m \u001b[1m0s\u001b[0m 65ms/step - loss: 0.0432 - val_loss: 0.0150\n",
      "Epoch 16/25\n",
      "\u001b[1m2/2\u001b[0m \u001b[32m━━━━━━━━━━━━━━━━━━━━\u001b[0m\u001b[37m\u001b[0m \u001b[1m0s\u001b[0m 63ms/step - loss: 0.0414 - val_loss: 0.0154\n",
      "Epoch 17/25\n",
      "\u001b[1m2/2\u001b[0m \u001b[32m━━━━━━━━━━━━━━━━━━━━\u001b[0m\u001b[37m\u001b[0m \u001b[1m0s\u001b[0m 66ms/step - loss: 0.0465 - val_loss: 0.0162\n",
      "Epoch 18/25\n",
      "\u001b[1m2/2\u001b[0m \u001b[32m━━━━━━━━━━━━━━━━━━━━\u001b[0m\u001b[37m\u001b[0m \u001b[1m0s\u001b[0m 66ms/step - loss: 0.0410 - val_loss: 0.0169\n",
      "Epoch 19/25\n",
      "\u001b[1m2/2\u001b[0m \u001b[32m━━━━━━━━━━━━━━━━━━━━\u001b[0m\u001b[37m\u001b[0m \u001b[1m0s\u001b[0m 65ms/step - loss: 0.0468 - val_loss: 0.0183\n",
      "Epoch 20/25\n",
      "\u001b[1m2/2\u001b[0m \u001b[32m━━━━━━━━━━━━━━━━━━━━\u001b[0m\u001b[37m\u001b[0m \u001b[1m0s\u001b[0m 66ms/step - loss: 0.0407 - val_loss: 0.0196\n",
      "Epoch 21/25\n",
      "\u001b[1m2/2\u001b[0m \u001b[32m━━━━━━━━━━━━━━━━━━━━\u001b[0m\u001b[37m\u001b[0m \u001b[1m0s\u001b[0m 62ms/step - loss: 0.0365 - val_loss: 0.0205\n",
      "Epoch 22/25\n",
      "\u001b[1m2/2\u001b[0m \u001b[32m━━━━━━━━━━━━━━━━━━━━\u001b[0m\u001b[37m\u001b[0m \u001b[1m0s\u001b[0m 64ms/step - loss: 0.0390 - val_loss: 0.0214\n",
      "Epoch 23/25\n",
      "\u001b[1m2/2\u001b[0m \u001b[32m━━━━━━━━━━━━━━━━━━━━\u001b[0m\u001b[37m\u001b[0m \u001b[1m0s\u001b[0m 63ms/step - loss: 0.0397 - val_loss: 0.0206\n",
      "Epoch 24/25\n",
      "\u001b[1m2/2\u001b[0m \u001b[32m━━━━━━━━━━━━━━━━━━━━\u001b[0m\u001b[37m\u001b[0m \u001b[1m0s\u001b[0m 62ms/step - loss: 0.0316 - val_loss: 0.0185\n",
      "Epoch 25/25\n",
      "\u001b[1m2/2\u001b[0m \u001b[32m━━━━━━━━━━━━━━━━━━━━\u001b[0m\u001b[37m\u001b[0m \u001b[1m0s\u001b[0m 64ms/step - loss: 0.0385 - val_loss: 0.0172\n"
     ]
    }
   ],
   "source": [
    "history = model.fit(X, y, epochs=25, batch_size=16, validation_split=0.1, verbose=1)\n"
   ]
  },
  {
   "cell_type": "code",
   "execution_count": 121,
   "id": "55bec984-fe32-4826-89ff-d8ce019a3fae",
   "metadata": {},
   "outputs": [
    {
     "data": {
      "image/png": "[encoded data removed]",
      "text/plain": [
       "<Figure size 640x480 with 1 Axes>"
      ]
     },
     "metadata": {},
     "output_type": "display_data"
    }
   ],
   "source": [
    "plt.plot(history.history['loss'])\n",
    "plt.title('Model Loss During Training')\n",
    "plt.xlabel('Epochs')\n",
    "plt.ylabel('Loss')\n",
    "plt.show()\n"
   ]
  },
  {
   "cell_type": "code",
   "execution_count": 122,
   "id": "4d7e5bc3-f3ca-4892-9c8b-fdb8d16176b0",
   "metadata": {},
   "outputs": [
    {
     "name": "stdout",
     "output_type": "stream",
     "text": [
      "\u001b[1m1/1\u001b[0m \u001b[32m━━━━━━━━━━━━━━━━━━━━\u001b[0m\u001b[37m\u001b[0m \u001b[1m0s\u001b[0m 36ms/step\n"
     ]
    }
   ],
   "source": [
    "predicted_prices = model.predict(X)\n",
    "predicted_prices = scaler.inverse_transform(predicted_prices)  # Convert back to real price\n",
    "real_prices = scaler.inverse_transform(y.reshape(-1, 1))\n"
   ]
  },
  {
   "cell_type": "code",
   "execution_count": 123,
   "id": "c323602e-a297-4309-a13a-564da9b2344c",
   "metadata": {},
   "outputs": [
    {
     "data": {
      "image/png": "[encoded data removed]",
      "text/plain": [
       "<Figure size 640x480 with 1 Axes>"
      ]
     },
     "metadata": {},
     "output_type": "display_data"
    }
   ],
   "source": [
    "df['AAPL'].hist(bins=50)\n",
    "plt.title(\"AAPL Price Distribution\")\n",
    "plt.xlabel(\"Price\")\n",
    "plt.ylabel(\"Frequency\")\n",
    "plt.show()\n"
   ]
  },
  {
   "cell_type": "code",
   "execution_count": 124,
   "id": "63810676-f6f2-46ee-80ce-bfd3d2e94fc5",
   "metadata": {},
   "outputs": [
    {
     "data": {
      "image/png": "[encoded data removed]",
      "text/plain": [
       "<Figure size 1200x600 with 1 Axes>"
      ]
     },
     "metadata": {},
     "output_type": "display_data"
    }
   ],
   "source": [
    "plt.figure(figsize=(12, 6))\n",
    "plt.plot(actual, label='Actual Price', color='blue')\n",
    "plt.plot(predictions, label='Predicted Price', color='red')\n",
    "plt.title('Improved LSTM Prediction')\n",
    "plt.xlabel('Time')\n",
    "plt.ylabel('Price')\n",
    "plt.legend()\n",
    "plt.show()\n"
   ]
  },
  {
   "cell_type": "code",
   "execution_count": null,
   "id": "7b61059a-e437-40d8-b3db-d9235b574a61",
   "metadata": {},
   "outputs": [],
   "source": []
  }
 ],
 "metadata": {
  "kernelspec": {
   "display_name": "Python 3 (ipykernel)",
   "language": "python",
   "name": "python3"
  },
  "language_info": {
   "codemirror_mode": {
    "name": "ipython",
    "version": 3
   },
   "file_extension": ".py",
   "mimetype": "text/x-python",
   "name": "python",
   "nbconvert_exporter": "python",
   "pygments_lexer": "ipython3",
   "version": "3.12.7"
  }
 },
 "nbformat": 4,
 "nbformat_minor": 5
}
